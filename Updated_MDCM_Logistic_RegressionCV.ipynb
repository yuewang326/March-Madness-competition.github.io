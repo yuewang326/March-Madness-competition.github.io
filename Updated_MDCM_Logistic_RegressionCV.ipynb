{
  "nbformat": 4,
  "nbformat_minor": 0,
  "metadata": {
    "colab": {
      "name": "Updated MDCM-Logistic RegressionCV.ipynb",
      "provenance": [],
      "collapsed_sections": [],
      "include_colab_link": true
    },
    "kernelspec": {
      "name": "python3",
      "display_name": "Python 3"
    }
  },
  "cells": [
    {
      "cell_type": "markdown",
      "metadata": {
        "id": "view-in-github",
        "colab_type": "text"
      },
      "source": [
        "<a href=\"https://colab.research.google.com/github/yuewang326/myproject.github.io/blob/master/Updated_MDCM_Logistic_RegressionCV.ipynb\" target=\"_parent\"><img src=\"https://colab.research.google.com/assets/colab-badge.svg\" alt=\"Open In Colab\"/></a>"
      ]
    },
    {
      "cell_type": "code",
      "metadata": {
        "id": "7Tvh62ap7rR3"
      },
      "source": [
        "from google.colab import drive\n",
        "drive.mount('/content/drive')"
      ],
      "execution_count": null,
      "outputs": []
    },
    {
      "cell_type": "code",
      "metadata": {
        "id": "-ITYFnlQ-4Vy"
      },
      "source": [
        "import pandas as pd"
      ],
      "execution_count": null,
      "outputs": []
    },
    {
      "cell_type": "code",
      "metadata": {
        "id": "FJtTC5Ep9fsF"
      },
      "source": [
        "df = pd.read_csv(\"/content/drive/MyDrive/Let's trade stocks!/MDCM/Data & Glossary/NCAA_Tourney_2002_2019_update.csv\")"
      ],
      "execution_count": null,
      "outputs": []
    },
    {
      "cell_type": "code",
      "metadata": {
        "id": "h-mRNxrDv150"
      },
      "source": [
        "#from google.colab import files\n",
        "#uploaded = files.upload()"
      ],
      "execution_count": null,
      "outputs": []
    },
    {
      "cell_type": "code",
      "metadata": {
        "id": "jX_boYmswsSY"
      },
      "source": [
        "#df = pd.read_csv(\"NCAA_Tourney_2002_2019_update.csv\")"
      ],
      "execution_count": null,
      "outputs": []
    },
    {
      "cell_type": "code",
      "metadata": {
        "id": "eLAaZAaJ-1zA",
        "colab": {
          "base_uri": "https://localhost:8080/",
          "height": 293
        },
        "outputId": "8d6f66e9-aa54-4bde-8e30-71bf78915808"
      },
      "source": [
        "df.head(3)"
      ],
      "execution_count": null,
      "outputs": [
        {
          "output_type": "execute_result",
          "data": {
            "text/html": [
              "<div>\n",
              "<style scoped>\n",
              "    .dataframe tbody tr th:only-of-type {\n",
              "        vertical-align: middle;\n",
              "    }\n",
              "\n",
              "    .dataframe tbody tr th {\n",
              "        vertical-align: top;\n",
              "    }\n",
              "\n",
              "    .dataframe thead th {\n",
              "        text-align: right;\n",
              "    }\n",
              "</style>\n",
              "<table border=\"1\" class=\"dataframe\">\n",
              "  <thead>\n",
              "    <tr style=\"text-align: right;\">\n",
              "      <th></th>\n",
              "      <th>team1_id</th>\n",
              "      <th>team1_score</th>\n",
              "      <th>team2_id</th>\n",
              "      <th>team2_score</th>\n",
              "      <th>WLoc</th>\n",
              "      <th>num_ot</th>\n",
              "      <th>team1_position</th>\n",
              "      <th>team2_position</th>\n",
              "      <th>team1_seed</th>\n",
              "      <th>team2_seed</th>\n",
              "      <th>strongseed</th>\n",
              "      <th>weakseed</th>\n",
              "      <th>team1_region</th>\n",
              "      <th>team2_region</th>\n",
              "      <th>slot</th>\n",
              "      <th>team1_teamname</th>\n",
              "      <th>team2_teamname</th>\n",
              "      <th>season</th>\n",
              "      <th>host</th>\n",
              "      <th>host_lat</th>\n",
              "      <th>host_long</th>\n",
              "      <th>team1_lat</th>\n",
              "      <th>team1_long</th>\n",
              "      <th>team2_lat</th>\n",
              "      <th>team2_long</th>\n",
              "      <th>team1_coach_id</th>\n",
              "      <th>team1_pt_school_ncaa</th>\n",
              "      <th>team1_pt_overall_ncaa</th>\n",
              "      <th>team1_pt_school_s16</th>\n",
              "      <th>team1_pt_overall_s16</th>\n",
              "      <th>team1_pt_school_ff</th>\n",
              "      <th>team1_pt_overall_ff</th>\n",
              "      <th>team1_pt_career_school_wins</th>\n",
              "      <th>team1_pt_career_school_losses</th>\n",
              "      <th>team1_pt_career_overall_wins</th>\n",
              "      <th>team1_pt_career_overall_losses</th>\n",
              "      <th>team1_pt_team_season_wins</th>\n",
              "      <th>team1_pt_team_season_losses</th>\n",
              "      <th>team1_pt_coach_season_wins</th>\n",
              "      <th>team1_pt_coach_season_losses</th>\n",
              "      <th>...</th>\n",
              "      <th>team1_fg3pct</th>\n",
              "      <th>team1_ftpct</th>\n",
              "      <th>team1_blockpct</th>\n",
              "      <th>team1_oppfg2pct</th>\n",
              "      <th>team1_oppfg3pct</th>\n",
              "      <th>team1_oppftpct</th>\n",
              "      <th>team1_oppblockpct</th>\n",
              "      <th>team1_f3grate</th>\n",
              "      <th>team1_oppf3grate</th>\n",
              "      <th>team1_arate</th>\n",
              "      <th>team1_opparate</th>\n",
              "      <th>team1_stlrate</th>\n",
              "      <th>team1_oppstlrate</th>\n",
              "      <th>team2_fg2pct</th>\n",
              "      <th>team2_fg3pct</th>\n",
              "      <th>team2_ftpct</th>\n",
              "      <th>team2_blockpct</th>\n",
              "      <th>team2_oppfg2pct</th>\n",
              "      <th>team2_oppfg3pct</th>\n",
              "      <th>team2_oppftpct</th>\n",
              "      <th>team2_oppblockpct</th>\n",
              "      <th>team2_f3grate</th>\n",
              "      <th>team2_oppf3grate</th>\n",
              "      <th>team2_arate</th>\n",
              "      <th>team2_opparate</th>\n",
              "      <th>team2_stlrate</th>\n",
              "      <th>team2_oppstlrate</th>\n",
              "      <th>team1_tempo</th>\n",
              "      <th>team1_adjtempo</th>\n",
              "      <th>team1_oe</th>\n",
              "      <th>team1_adjoe</th>\n",
              "      <th>team1_de</th>\n",
              "      <th>team1_adjde</th>\n",
              "      <th>team2_tempo</th>\n",
              "      <th>team2_adjtempo</th>\n",
              "      <th>team2_oe</th>\n",
              "      <th>team2_adjoe</th>\n",
              "      <th>team2_de</th>\n",
              "      <th>team2_adjde</th>\n",
              "      <th>game_id</th>\n",
              "    </tr>\n",
              "  </thead>\n",
              "  <tbody>\n",
              "    <tr>\n",
              "      <th>0</th>\n",
              "      <td>1192.0</td>\n",
              "      <td>82</td>\n",
              "      <td>1341.0</td>\n",
              "      <td>76</td>\n",
              "      <td>N</td>\n",
              "      <td>0</td>\n",
              "      <td>X16a</td>\n",
              "      <td>X16b</td>\n",
              "      <td>16</td>\n",
              "      <td>16</td>\n",
              "      <td>16</td>\n",
              "      <td>16</td>\n",
              "      <td>X</td>\n",
              "      <td>X</td>\n",
              "      <td>X16</td>\n",
              "      <td>F Dickinson</td>\n",
              "      <td>Prairie View</td>\n",
              "      <td>2019</td>\n",
              "      <td>dayton</td>\n",
              "      <td>39.7594</td>\n",
              "      <td>-84.1917</td>\n",
              "      <td>40.896162</td>\n",
              "      <td>-74.030023</td>\n",
              "      <td>30.094591</td>\n",
              "      <td>-95.992066</td>\n",
              "      <td>greg-herenda-1</td>\n",
              "      <td>1.0</td>\n",
              "      <td>1.0</td>\n",
              "      <td>0.0</td>\n",
              "      <td>0.0</td>\n",
              "      <td>0.0</td>\n",
              "      <td>0.0</td>\n",
              "      <td>81.0</td>\n",
              "      <td>107.0</td>\n",
              "      <td>81.0</td>\n",
              "      <td>107.0</td>\n",
              "      <td>21.0</td>\n",
              "      <td>13.0</td>\n",
              "      <td>21.0</td>\n",
              "      <td>13.0</td>\n",
              "      <td>...</td>\n",
              "      <td>40.468227</td>\n",
              "      <td>74.422442</td>\n",
              "      <td>10.171017</td>\n",
              "      <td>51.575158</td>\n",
              "      <td>34.339080</td>\n",
              "      <td>70.329670</td>\n",
              "      <td>9.156194</td>\n",
              "      <td>34.929907</td>\n",
              "      <td>38.516879</td>\n",
              "      <td>53.201970</td>\n",
              "      <td>51.477833</td>\n",
              "      <td>0.108950</td>\n",
              "      <td>0.089778</td>\n",
              "      <td>49.649805</td>\n",
              "      <td>31.432974</td>\n",
              "      <td>68.149883</td>\n",
              "      <td>4.616725</td>\n",
              "      <td>53.484321</td>\n",
              "      <td>30.793157</td>\n",
              "      <td>69.304556</td>\n",
              "      <td>11.050584</td>\n",
              "      <td>33.557394</td>\n",
              "      <td>35.901731</td>\n",
              "      <td>48.218527</td>\n",
              "      <td>52.093596</td>\n",
              "      <td>0.121483</td>\n",
              "      <td>0.070552</td>\n",
              "      <td>67.8895</td>\n",
              "      <td>66.8424</td>\n",
              "      <td>108.370</td>\n",
              "      <td>106.296</td>\n",
              "      <td>104.7090</td>\n",
              "      <td>110.550</td>\n",
              "      <td>72.5879</td>\n",
              "      <td>71.0282</td>\n",
              "      <td>103.120</td>\n",
              "      <td>101.6550</td>\n",
              "      <td>99.7542</td>\n",
              "      <td>105.959</td>\n",
              "      <td>2019-1192.0-1341.0</td>\n",
              "    </tr>\n",
              "    <tr>\n",
              "      <th>1</th>\n",
              "      <td>1125.0</td>\n",
              "      <td>81</td>\n",
              "      <td>1396.0</td>\n",
              "      <td>70</td>\n",
              "      <td>N</td>\n",
              "      <td>0</td>\n",
              "      <td>W11a</td>\n",
              "      <td>W11b</td>\n",
              "      <td>11</td>\n",
              "      <td>11</td>\n",
              "      <td>11</td>\n",
              "      <td>11</td>\n",
              "      <td>W</td>\n",
              "      <td>W</td>\n",
              "      <td>W11</td>\n",
              "      <td>Belmont</td>\n",
              "      <td>Temple</td>\n",
              "      <td>2019</td>\n",
              "      <td>dayton</td>\n",
              "      <td>39.7594</td>\n",
              "      <td>-84.1917</td>\n",
              "      <td>36.133866</td>\n",
              "      <td>-86.794715</td>\n",
              "      <td>39.980943</td>\n",
              "      <td>-75.158267</td>\n",
              "      <td>rick-byrd-1</td>\n",
              "      <td>7.0</td>\n",
              "      <td>7.0</td>\n",
              "      <td>0.0</td>\n",
              "      <td>0.0</td>\n",
              "      <td>0.0</td>\n",
              "      <td>0.0</td>\n",
              "      <td>415.0</td>\n",
              "      <td>219.0</td>\n",
              "      <td>415.0</td>\n",
              "      <td>219.0</td>\n",
              "      <td>27.0</td>\n",
              "      <td>5.0</td>\n",
              "      <td>27.0</td>\n",
              "      <td>5.0</td>\n",
              "      <td>...</td>\n",
              "      <td>37.112172</td>\n",
              "      <td>73.556797</td>\n",
              "      <td>9.127302</td>\n",
              "      <td>47.237790</td>\n",
              "      <td>34.690799</td>\n",
              "      <td>69.811321</td>\n",
              "      <td>10.335196</td>\n",
              "      <td>43.828452</td>\n",
              "      <td>34.675732</td>\n",
              "      <td>61.894737</td>\n",
              "      <td>44.512195</td>\n",
              "      <td>0.089031</td>\n",
              "      <td>0.082799</td>\n",
              "      <td>50.374688</td>\n",
              "      <td>33.057851</td>\n",
              "      <td>73.113208</td>\n",
              "      <td>6.315789</td>\n",
              "      <td>51.140351</td>\n",
              "      <td>32.670455</td>\n",
              "      <td>67.684887</td>\n",
              "      <td>6.744380</td>\n",
              "      <td>37.675143</td>\n",
              "      <td>38.177874</td>\n",
              "      <td>54.792899</td>\n",
              "      <td>49.938499</td>\n",
              "      <td>0.121583</td>\n",
              "      <td>0.077251</td>\n",
              "      <td>74.2457</td>\n",
              "      <td>71.1915</td>\n",
              "      <td>116.393</td>\n",
              "      <td>114.952</td>\n",
              "      <td>99.6691</td>\n",
              "      <td>101.886</td>\n",
              "      <td>70.1158</td>\n",
              "      <td>68.8256</td>\n",
              "      <td>105.306</td>\n",
              "      <td>108.9910</td>\n",
              "      <td>100.1860</td>\n",
              "      <td>99.563</td>\n",
              "      <td>2019-1125.0-1396.0</td>\n",
              "    </tr>\n",
              "    <tr>\n",
              "      <th>2</th>\n",
              "      <td>1295.0</td>\n",
              "      <td>78</td>\n",
              "      <td>1300.0</td>\n",
              "      <td>74</td>\n",
              "      <td>N</td>\n",
              "      <td>0</td>\n",
              "      <td>W16a</td>\n",
              "      <td>W16b</td>\n",
              "      <td>16</td>\n",
              "      <td>16</td>\n",
              "      <td>16</td>\n",
              "      <td>16</td>\n",
              "      <td>W</td>\n",
              "      <td>W</td>\n",
              "      <td>W16</td>\n",
              "      <td>N Dakota St</td>\n",
              "      <td>NC Central</td>\n",
              "      <td>2019</td>\n",
              "      <td>dayton</td>\n",
              "      <td>39.7594</td>\n",
              "      <td>-84.1917</td>\n",
              "      <td>46.894523</td>\n",
              "      <td>-96.805689</td>\n",
              "      <td>35.974237</td>\n",
              "      <td>-78.898602</td>\n",
              "      <td>david-richman-1</td>\n",
              "      <td>1.0</td>\n",
              "      <td>1.0</td>\n",
              "      <td>0.0</td>\n",
              "      <td>0.0</td>\n",
              "      <td>0.0</td>\n",
              "      <td>0.0</td>\n",
              "      <td>96.0</td>\n",
              "      <td>66.0</td>\n",
              "      <td>96.0</td>\n",
              "      <td>66.0</td>\n",
              "      <td>19.0</td>\n",
              "      <td>15.0</td>\n",
              "      <td>19.0</td>\n",
              "      <td>15.0</td>\n",
              "      <td>...</td>\n",
              "      <td>36.842105</td>\n",
              "      <td>76.470588</td>\n",
              "      <td>6.643658</td>\n",
              "      <td>52.890423</td>\n",
              "      <td>36.645963</td>\n",
              "      <td>74.576271</td>\n",
              "      <td>9.670080</td>\n",
              "      <td>48.172170</td>\n",
              "      <td>35.718247</td>\n",
              "      <td>46.062992</td>\n",
              "      <td>44.994111</td>\n",
              "      <td>0.070765</td>\n",
              "      <td>0.079430</td>\n",
              "      <td>51.674641</td>\n",
              "      <td>31.177446</td>\n",
              "      <td>70.363636</td>\n",
              "      <td>6.912029</td>\n",
              "      <td>50.897666</td>\n",
              "      <td>31.533101</td>\n",
              "      <td>68.773946</td>\n",
              "      <td>10.909091</td>\n",
              "      <td>36.589806</td>\n",
              "      <td>34.004739</td>\n",
              "      <td>59.478022</td>\n",
              "      <td>52.540107</td>\n",
              "      <td>0.078098</td>\n",
              "      <td>0.090950</td>\n",
              "      <td>66.4861</td>\n",
              "      <td>64.8533</td>\n",
              "      <td>108.198</td>\n",
              "      <td>106.675</td>\n",
              "      <td>110.0540</td>\n",
              "      <td>109.873</td>\n",
              "      <td>67.1363</td>\n",
              "      <td>65.2686</td>\n",
              "      <td>100.502</td>\n",
              "      <td>96.7551</td>\n",
              "      <td>100.7490</td>\n",
              "      <td>108.661</td>\n",
              "      <td>2019-1295.0-1300.0</td>\n",
              "    </tr>\n",
              "  </tbody>\n",
              "</table>\n",
              "<p>3 rows × 104 columns</p>\n",
              "</div>"
            ],
            "text/plain": [
              "   team1_id  team1_score  team2_id  ...  team2_de team2_adjde             game_id\n",
              "0    1192.0           82    1341.0  ...   99.7542     105.959  2019-1192.0-1341.0\n",
              "1    1125.0           81    1396.0  ...  100.1860      99.563  2019-1125.0-1396.0\n",
              "2    1295.0           78    1300.0  ...  100.7490     108.661  2019-1295.0-1300.0\n",
              "\n",
              "[3 rows x 104 columns]"
            ]
          },
          "metadata": {
            "tags": []
          },
          "execution_count": 4
        }
      ]
    },
    {
      "cell_type": "code",
      "metadata": {
        "id": "jLz8QogVw76r",
        "colab": {
          "base_uri": "https://localhost:8080/"
        },
        "outputId": "fd4decdd-967f-426f-ad2d-d769047e5e67"
      },
      "source": [
        "%matplotlib inline\n",
        "import matplotlib.pyplot as plt\n",
        "plt.style.use('ggplot')\n",
        "\n",
        "from math import sin, cos, sqrt, atan2, radians\n",
        "import numpy as np\n",
        "import pandas as pd\n",
        "import random\n",
        "from sklearn.linear_model import LogisticRegressionCV\n",
        "from sklearn.metrics import (auc, classification_report, roc_auc_score, accuracy_score,\n",
        "                             f1_score, log_loss, roc_curve, confusion_matrix, precision_score, recall_score)\n",
        "from sklearn.preprocessing import StandardScaler\n",
        "import statsmodels.api as sm"
      ],
      "execution_count": null,
      "outputs": [
        {
          "output_type": "stream",
          "text": [
            "/usr/local/lib/python3.7/dist-packages/statsmodels/tools/_testing.py:19: FutureWarning: pandas.util.testing is deprecated. Use the functions in the public API at pandas.testing instead.\n",
            "  import pandas.util.testing as tm\n"
          ],
          "name": "stderr"
        }
      ]
    },
    {
      "cell_type": "code",
      "metadata": {
        "id": "59NktEA91tu7"
      },
      "source": [
        "def distance(lat1, lon1, lat2, lon2):\n",
        "\n",
        "    # approximate radius of earth in km\n",
        "    R = 6373.0\n",
        "\n",
        "    lat1 = radians(lat1)\n",
        "    lon1 = radians(lon1)\n",
        "    lat2 = radians(lat2)\n",
        "    lon2 = radians(lon2)\n",
        "\n",
        "    dlon = lon2 - lon1\n",
        "    dlat = lat2 - lat1\n",
        "\n",
        "    a = sin(dlat / 2)**2 + cos(lat1) * cos(lat2) * sin(dlon / 2)**2\n",
        "    c = 2 * atan2(sqrt(a), sqrt(1 - a))\n",
        "\n",
        "    distance = R * c\n",
        "    \n",
        "    return distance"
      ],
      "execution_count": null,
      "outputs": []
    },
    {
      "cell_type": "code",
      "metadata": {
        "id": "vmvWYbaT1dRp"
      },
      "source": [
        "df['dist1'] = df.apply(lambda row: distance(row['host_lat'], row['host_long'], row['team1_lat'], row['team1_long']), axis=1)\n",
        "df['dist2'] = df.apply(lambda row: distance(row['host_lat'], row['host_long'], row['team2_lat'], row['team2_long']), axis=1)"
      ],
      "execution_count": null,
      "outputs": []
    },
    {
      "cell_type": "code",
      "metadata": {
        "id": "z8_jLXy81dZm"
      },
      "source": [
        "df['diff_dist'] = df['dist1'] - df['dist2']"
      ],
      "execution_count": null,
      "outputs": []
    },
    {
      "cell_type": "code",
      "metadata": {
        "id": "hjRVPS411dcY"
      },
      "source": [
        "## E(W%) = points scored^11.5 / (points scored^11.5+points allowed^11.5)"
      ],
      "execution_count": null,
      "outputs": []
    },
    {
      "cell_type": "code",
      "metadata": {
        "id": "jYuYXSRV1dhz"
      },
      "source": [
        "df['exp_win1'] = (df['team1_adjoe']**11.5)/ ((df['team1_adjde']**11.5)+(df['team1_adjoe']**11.5))\n",
        "df['exp_win2'] = (df['team2_adjoe']**11.5)/ ((df['team2_adjde']**11.5)+(df['team2_adjoe']**11.5))"
      ],
      "execution_count": null,
      "outputs": []
    },
    {
      "cell_type": "markdown",
      "metadata": {
        "id": "R8nNTkXH_whz"
      },
      "source": [
        "# Log 5\n",
        "P(W) = (A - A B) / (A + B - 2A*B)\n",
        "\n",
        "Log 5 is a formula invented by Bill James[1] to estimate the probability that team A will win a game, based on the true winning percentage of Team A and Team B."
      ]
    },
    {
      "cell_type": "code",
      "metadata": {
        "id": "xHCQbCcD7WXg"
      },
      "source": [
        "df['team1_log5'] = (df['exp_win1'] - (df['exp_win1']*df['exp_win2']))/ (df['exp_win1']+df['exp_win2']-(2*df['exp_win1']*df['exp_win2']))"
      ],
      "execution_count": null,
      "outputs": []
    },
    {
      "cell_type": "code",
      "metadata": {
        "id": "S3dEXYuE7WZ_"
      },
      "source": [
        "#seed_compare"
      ],
      "execution_count": null,
      "outputs": []
    },
    {
      "cell_type": "code",
      "metadata": {
        "id": "DuKeUPcy7WcP"
      },
      "source": [
        "## add Seed _difference\n",
        "seed_diff = list(df['team1_seed'] - df['team2_seed'])\n",
        "\n",
        "seed_compare = []\n",
        "for i in seed_diff:\n",
        "  if i >= 6:\n",
        "    seed_compare.append(1)\n",
        "  elif i <= 6:\n",
        "    seed_compare.append(-1)\n",
        "  else:\n",
        "    seed_compare.append(0)"
      ],
      "execution_count": null,
      "outputs": []
    },
    {
      "cell_type": "code",
      "metadata": {
        "id": "n8nfgA2l-USa"
      },
      "source": [
        "df['seed_diff'] = seed_compare"
      ],
      "execution_count": null,
      "outputs": []
    },
    {
      "cell_type": "code",
      "metadata": {
        "colab": {
          "base_uri": "https://localhost:8080/",
          "height": 748
        },
        "id": "FEkhPktQ7Wea",
        "outputId": "ef223835-eff4-408f-9c2b-d55251c2d1b5"
      },
      "source": [
        "df.head(10)"
      ],
      "execution_count": null,
      "outputs": [
        {
          "output_type": "execute_result",
          "data": {
            "text/html": [
              "<div>\n",
              "<style scoped>\n",
              "    .dataframe tbody tr th:only-of-type {\n",
              "        vertical-align: middle;\n",
              "    }\n",
              "\n",
              "    .dataframe tbody tr th {\n",
              "        vertical-align: top;\n",
              "    }\n",
              "\n",
              "    .dataframe thead th {\n",
              "        text-align: right;\n",
              "    }\n",
              "</style>\n",
              "<table border=\"1\" class=\"dataframe\">\n",
              "  <thead>\n",
              "    <tr style=\"text-align: right;\">\n",
              "      <th></th>\n",
              "      <th>team1_id</th>\n",
              "      <th>team1_score</th>\n",
              "      <th>team2_id</th>\n",
              "      <th>team2_score</th>\n",
              "      <th>WLoc</th>\n",
              "      <th>num_ot</th>\n",
              "      <th>team1_position</th>\n",
              "      <th>team2_position</th>\n",
              "      <th>team1_seed</th>\n",
              "      <th>team2_seed</th>\n",
              "      <th>strongseed</th>\n",
              "      <th>weakseed</th>\n",
              "      <th>team1_region</th>\n",
              "      <th>team2_region</th>\n",
              "      <th>slot</th>\n",
              "      <th>team1_teamname</th>\n",
              "      <th>team2_teamname</th>\n",
              "      <th>season</th>\n",
              "      <th>host</th>\n",
              "      <th>host_lat</th>\n",
              "      <th>host_long</th>\n",
              "      <th>team1_lat</th>\n",
              "      <th>team1_long</th>\n",
              "      <th>team2_lat</th>\n",
              "      <th>team2_long</th>\n",
              "      <th>team1_coach_id</th>\n",
              "      <th>team1_pt_school_ncaa</th>\n",
              "      <th>team1_pt_overall_ncaa</th>\n",
              "      <th>team1_pt_school_s16</th>\n",
              "      <th>team1_pt_overall_s16</th>\n",
              "      <th>team1_pt_school_ff</th>\n",
              "      <th>team1_pt_overall_ff</th>\n",
              "      <th>team1_pt_career_school_wins</th>\n",
              "      <th>team1_pt_career_school_losses</th>\n",
              "      <th>team1_pt_career_overall_wins</th>\n",
              "      <th>team1_pt_career_overall_losses</th>\n",
              "      <th>team1_pt_team_season_wins</th>\n",
              "      <th>team1_pt_team_season_losses</th>\n",
              "      <th>team1_pt_coach_season_wins</th>\n",
              "      <th>team1_pt_coach_season_losses</th>\n",
              "      <th>...</th>\n",
              "      <th>team1_f3grate</th>\n",
              "      <th>team1_oppf3grate</th>\n",
              "      <th>team1_arate</th>\n",
              "      <th>team1_opparate</th>\n",
              "      <th>team1_stlrate</th>\n",
              "      <th>team1_oppstlrate</th>\n",
              "      <th>team2_fg2pct</th>\n",
              "      <th>team2_fg3pct</th>\n",
              "      <th>team2_ftpct</th>\n",
              "      <th>team2_blockpct</th>\n",
              "      <th>team2_oppfg2pct</th>\n",
              "      <th>team2_oppfg3pct</th>\n",
              "      <th>team2_oppftpct</th>\n",
              "      <th>team2_oppblockpct</th>\n",
              "      <th>team2_f3grate</th>\n",
              "      <th>team2_oppf3grate</th>\n",
              "      <th>team2_arate</th>\n",
              "      <th>team2_opparate</th>\n",
              "      <th>team2_stlrate</th>\n",
              "      <th>team2_oppstlrate</th>\n",
              "      <th>team1_tempo</th>\n",
              "      <th>team1_adjtempo</th>\n",
              "      <th>team1_oe</th>\n",
              "      <th>team1_adjoe</th>\n",
              "      <th>team1_de</th>\n",
              "      <th>team1_adjde</th>\n",
              "      <th>team2_tempo</th>\n",
              "      <th>team2_adjtempo</th>\n",
              "      <th>team2_oe</th>\n",
              "      <th>team2_adjoe</th>\n",
              "      <th>team2_de</th>\n",
              "      <th>team2_adjde</th>\n",
              "      <th>game_id</th>\n",
              "      <th>dist1</th>\n",
              "      <th>dist2</th>\n",
              "      <th>diff_dist</th>\n",
              "      <th>exp_win1</th>\n",
              "      <th>exp_win2</th>\n",
              "      <th>team1_log5</th>\n",
              "      <th>seed_diff</th>\n",
              "    </tr>\n",
              "  </thead>\n",
              "  <tbody>\n",
              "    <tr>\n",
              "      <th>0</th>\n",
              "      <td>1192.0</td>\n",
              "      <td>82</td>\n",
              "      <td>1341.0</td>\n",
              "      <td>76</td>\n",
              "      <td>N</td>\n",
              "      <td>0</td>\n",
              "      <td>X16a</td>\n",
              "      <td>X16b</td>\n",
              "      <td>16</td>\n",
              "      <td>16</td>\n",
              "      <td>16</td>\n",
              "      <td>16</td>\n",
              "      <td>X</td>\n",
              "      <td>X</td>\n",
              "      <td>X16</td>\n",
              "      <td>F Dickinson</td>\n",
              "      <td>Prairie View</td>\n",
              "      <td>2019</td>\n",
              "      <td>dayton</td>\n",
              "      <td>39.7594</td>\n",
              "      <td>-84.1917</td>\n",
              "      <td>40.896162</td>\n",
              "      <td>-74.030023</td>\n",
              "      <td>30.094591</td>\n",
              "      <td>-95.992066</td>\n",
              "      <td>greg-herenda-1</td>\n",
              "      <td>1.0</td>\n",
              "      <td>1.0</td>\n",
              "      <td>0.0</td>\n",
              "      <td>0.0</td>\n",
              "      <td>0.0</td>\n",
              "      <td>0.0</td>\n",
              "      <td>81.0</td>\n",
              "      <td>107.0</td>\n",
              "      <td>81.0</td>\n",
              "      <td>107.0</td>\n",
              "      <td>21.0</td>\n",
              "      <td>13.0</td>\n",
              "      <td>21.0</td>\n",
              "      <td>13.0</td>\n",
              "      <td>...</td>\n",
              "      <td>34.929907</td>\n",
              "      <td>38.516879</td>\n",
              "      <td>53.201970</td>\n",
              "      <td>51.477833</td>\n",
              "      <td>0.108950</td>\n",
              "      <td>0.089778</td>\n",
              "      <td>49.649805</td>\n",
              "      <td>31.432974</td>\n",
              "      <td>68.149883</td>\n",
              "      <td>4.616725</td>\n",
              "      <td>53.484321</td>\n",
              "      <td>30.793157</td>\n",
              "      <td>69.304556</td>\n",
              "      <td>11.050584</td>\n",
              "      <td>33.557394</td>\n",
              "      <td>35.901731</td>\n",
              "      <td>48.218527</td>\n",
              "      <td>52.093596</td>\n",
              "      <td>0.121483</td>\n",
              "      <td>0.070552</td>\n",
              "      <td>67.8895</td>\n",
              "      <td>66.8424</td>\n",
              "      <td>108.370</td>\n",
              "      <td>106.296</td>\n",
              "      <td>104.7090</td>\n",
              "      <td>110.5500</td>\n",
              "      <td>72.5879</td>\n",
              "      <td>71.0282</td>\n",
              "      <td>103.120</td>\n",
              "      <td>101.6550</td>\n",
              "      <td>99.7542</td>\n",
              "      <td>105.9590</td>\n",
              "      <td>2019-1192.0-1341.0</td>\n",
              "      <td>870.390058</td>\n",
              "      <td>1518.423483</td>\n",
              "      <td>-648.033425</td>\n",
              "      <td>0.389061</td>\n",
              "      <td>0.382990</td>\n",
              "      <td>0.506403</td>\n",
              "      <td>-1</td>\n",
              "    </tr>\n",
              "    <tr>\n",
              "      <th>1</th>\n",
              "      <td>1125.0</td>\n",
              "      <td>81</td>\n",
              "      <td>1396.0</td>\n",
              "      <td>70</td>\n",
              "      <td>N</td>\n",
              "      <td>0</td>\n",
              "      <td>W11a</td>\n",
              "      <td>W11b</td>\n",
              "      <td>11</td>\n",
              "      <td>11</td>\n",
              "      <td>11</td>\n",
              "      <td>11</td>\n",
              "      <td>W</td>\n",
              "      <td>W</td>\n",
              "      <td>W11</td>\n",
              "      <td>Belmont</td>\n",
              "      <td>Temple</td>\n",
              "      <td>2019</td>\n",
              "      <td>dayton</td>\n",
              "      <td>39.7594</td>\n",
              "      <td>-84.1917</td>\n",
              "      <td>36.133866</td>\n",
              "      <td>-86.794715</td>\n",
              "      <td>39.980943</td>\n",
              "      <td>-75.158267</td>\n",
              "      <td>rick-byrd-1</td>\n",
              "      <td>7.0</td>\n",
              "      <td>7.0</td>\n",
              "      <td>0.0</td>\n",
              "      <td>0.0</td>\n",
              "      <td>0.0</td>\n",
              "      <td>0.0</td>\n",
              "      <td>415.0</td>\n",
              "      <td>219.0</td>\n",
              "      <td>415.0</td>\n",
              "      <td>219.0</td>\n",
              "      <td>27.0</td>\n",
              "      <td>5.0</td>\n",
              "      <td>27.0</td>\n",
              "      <td>5.0</td>\n",
              "      <td>...</td>\n",
              "      <td>43.828452</td>\n",
              "      <td>34.675732</td>\n",
              "      <td>61.894737</td>\n",
              "      <td>44.512195</td>\n",
              "      <td>0.089031</td>\n",
              "      <td>0.082799</td>\n",
              "      <td>50.374688</td>\n",
              "      <td>33.057851</td>\n",
              "      <td>73.113208</td>\n",
              "      <td>6.315789</td>\n",
              "      <td>51.140351</td>\n",
              "      <td>32.670455</td>\n",
              "      <td>67.684887</td>\n",
              "      <td>6.744380</td>\n",
              "      <td>37.675143</td>\n",
              "      <td>38.177874</td>\n",
              "      <td>54.792899</td>\n",
              "      <td>49.938499</td>\n",
              "      <td>0.121583</td>\n",
              "      <td>0.077251</td>\n",
              "      <td>74.2457</td>\n",
              "      <td>71.1915</td>\n",
              "      <td>116.393</td>\n",
              "      <td>114.952</td>\n",
              "      <td>99.6691</td>\n",
              "      <td>101.8860</td>\n",
              "      <td>70.1158</td>\n",
              "      <td>68.8256</td>\n",
              "      <td>105.306</td>\n",
              "      <td>108.9910</td>\n",
              "      <td>100.1860</td>\n",
              "      <td>99.5630</td>\n",
              "      <td>2019-1125.0-1396.0</td>\n",
              "      <td>463.360180</td>\n",
              "      <td>771.236814</td>\n",
              "      <td>-307.876634</td>\n",
              "      <td>0.800207</td>\n",
              "      <td>0.738939</td>\n",
              "      <td>0.585922</td>\n",
              "      <td>-1</td>\n",
              "    </tr>\n",
              "    <tr>\n",
              "      <th>2</th>\n",
              "      <td>1295.0</td>\n",
              "      <td>78</td>\n",
              "      <td>1300.0</td>\n",
              "      <td>74</td>\n",
              "      <td>N</td>\n",
              "      <td>0</td>\n",
              "      <td>W16a</td>\n",
              "      <td>W16b</td>\n",
              "      <td>16</td>\n",
              "      <td>16</td>\n",
              "      <td>16</td>\n",
              "      <td>16</td>\n",
              "      <td>W</td>\n",
              "      <td>W</td>\n",
              "      <td>W16</td>\n",
              "      <td>N Dakota St</td>\n",
              "      <td>NC Central</td>\n",
              "      <td>2019</td>\n",
              "      <td>dayton</td>\n",
              "      <td>39.7594</td>\n",
              "      <td>-84.1917</td>\n",
              "      <td>46.894523</td>\n",
              "      <td>-96.805689</td>\n",
              "      <td>35.974237</td>\n",
              "      <td>-78.898602</td>\n",
              "      <td>david-richman-1</td>\n",
              "      <td>1.0</td>\n",
              "      <td>1.0</td>\n",
              "      <td>0.0</td>\n",
              "      <td>0.0</td>\n",
              "      <td>0.0</td>\n",
              "      <td>0.0</td>\n",
              "      <td>96.0</td>\n",
              "      <td>66.0</td>\n",
              "      <td>96.0</td>\n",
              "      <td>66.0</td>\n",
              "      <td>19.0</td>\n",
              "      <td>15.0</td>\n",
              "      <td>19.0</td>\n",
              "      <td>15.0</td>\n",
              "      <td>...</td>\n",
              "      <td>48.172170</td>\n",
              "      <td>35.718247</td>\n",
              "      <td>46.062992</td>\n",
              "      <td>44.994111</td>\n",
              "      <td>0.070765</td>\n",
              "      <td>0.079430</td>\n",
              "      <td>51.674641</td>\n",
              "      <td>31.177446</td>\n",
              "      <td>70.363636</td>\n",
              "      <td>6.912029</td>\n",
              "      <td>50.897666</td>\n",
              "      <td>31.533101</td>\n",
              "      <td>68.773946</td>\n",
              "      <td>10.909091</td>\n",
              "      <td>36.589806</td>\n",
              "      <td>34.004739</td>\n",
              "      <td>59.478022</td>\n",
              "      <td>52.540107</td>\n",
              "      <td>0.078098</td>\n",
              "      <td>0.090950</td>\n",
              "      <td>66.4861</td>\n",
              "      <td>64.8533</td>\n",
              "      <td>108.198</td>\n",
              "      <td>106.675</td>\n",
              "      <td>110.0540</td>\n",
              "      <td>109.8730</td>\n",
              "      <td>67.1363</td>\n",
              "      <td>65.2686</td>\n",
              "      <td>100.502</td>\n",
              "      <td>96.7551</td>\n",
              "      <td>100.7490</td>\n",
              "      <td>108.6610</td>\n",
              "      <td>2019-1295.0-1300.0</td>\n",
              "      <td>1290.217292</td>\n",
              "      <td>626.900746</td>\n",
              "      <td>663.316546</td>\n",
              "      <td>0.415885</td>\n",
              "      <td>0.208404</td>\n",
              "      <td>0.730051</td>\n",
              "      <td>-1</td>\n",
              "    </tr>\n",
              "    <tr>\n",
              "      <th>3</th>\n",
              "      <td>1113.0</td>\n",
              "      <td>74</td>\n",
              "      <td>1385.0</td>\n",
              "      <td>65</td>\n",
              "      <td>N</td>\n",
              "      <td>0</td>\n",
              "      <td>X11a</td>\n",
              "      <td>X11b</td>\n",
              "      <td>11</td>\n",
              "      <td>11</td>\n",
              "      <td>11</td>\n",
              "      <td>11</td>\n",
              "      <td>X</td>\n",
              "      <td>X</td>\n",
              "      <td>X11</td>\n",
              "      <td>Arizona St</td>\n",
              "      <td>St John's</td>\n",
              "      <td>2019</td>\n",
              "      <td>dayton</td>\n",
              "      <td>39.7594</td>\n",
              "      <td>-84.1917</td>\n",
              "      <td>33.421922</td>\n",
              "      <td>-111.940011</td>\n",
              "      <td>40.721979</td>\n",
              "      <td>-73.795301</td>\n",
              "      <td>bobby-hurley-1</td>\n",
              "      <td>1.0</td>\n",
              "      <td>2.0</td>\n",
              "      <td>0.0</td>\n",
              "      <td>0.0</td>\n",
              "      <td>0.0</td>\n",
              "      <td>0.0</td>\n",
              "      <td>73.0</td>\n",
              "      <td>57.0</td>\n",
              "      <td>115.0</td>\n",
              "      <td>77.0</td>\n",
              "      <td>23.0</td>\n",
              "      <td>10.0</td>\n",
              "      <td>23.0</td>\n",
              "      <td>10.0</td>\n",
              "      <td>...</td>\n",
              "      <td>35.733053</td>\n",
              "      <td>43.450479</td>\n",
              "      <td>51.116334</td>\n",
              "      <td>54.838710</td>\n",
              "      <td>0.084913</td>\n",
              "      <td>0.086620</td>\n",
              "      <td>51.157223</td>\n",
              "      <td>36.118252</td>\n",
              "      <td>72.529313</td>\n",
              "      <td>10.036496</td>\n",
              "      <td>50.456204</td>\n",
              "      <td>34.068627</td>\n",
              "      <td>70.777480</td>\n",
              "      <td>6.384677</td>\n",
              "      <td>38.306253</td>\n",
              "      <td>42.677824</td>\n",
              "      <td>50.216920</td>\n",
              "      <td>54.151625</td>\n",
              "      <td>0.120499</td>\n",
              "      <td>0.070809</td>\n",
              "      <td>72.1332</td>\n",
              "      <td>70.5600</td>\n",
              "      <td>106.426</td>\n",
              "      <td>109.886</td>\n",
              "      <td>99.8027</td>\n",
              "      <td>98.6844</td>\n",
              "      <td>72.3507</td>\n",
              "      <td>70.5516</td>\n",
              "      <td>105.988</td>\n",
              "      <td>109.7820</td>\n",
              "      <td>102.5140</td>\n",
              "      <td>101.0440</td>\n",
              "      <td>2019-1113.0-1385.0</td>\n",
              "      <td>2564.817181</td>\n",
              "      <td>888.650148</td>\n",
              "      <td>1676.167033</td>\n",
              "      <td>0.774944</td>\n",
              "      <td>0.721882</td>\n",
              "      <td>0.570190</td>\n",
              "      <td>-1</td>\n",
              "    </tr>\n",
              "    <tr>\n",
              "      <th>4</th>\n",
              "      <td>1278.0</td>\n",
              "      <td>86</td>\n",
              "      <td>1257.0</td>\n",
              "      <td>76</td>\n",
              "      <td>N</td>\n",
              "      <td>0</td>\n",
              "      <td>W10</td>\n",
              "      <td>W07</td>\n",
              "      <td>10</td>\n",
              "      <td>7</td>\n",
              "      <td>7</td>\n",
              "      <td>10</td>\n",
              "      <td>W</td>\n",
              "      <td>W</td>\n",
              "      <td>R1W7</td>\n",
              "      <td>Minnesota</td>\n",
              "      <td>Louisville</td>\n",
              "      <td>2019</td>\n",
              "      <td>des_moines</td>\n",
              "      <td>41.6000</td>\n",
              "      <td>-93.6100</td>\n",
              "      <td>44.977886</td>\n",
              "      <td>-93.235352</td>\n",
              "      <td>38.215752</td>\n",
              "      <td>-85.758843</td>\n",
              "      <td>richard-pitino-1</td>\n",
              "      <td>1.0</td>\n",
              "      <td>1.0</td>\n",
              "      <td>0.0</td>\n",
              "      <td>0.0</td>\n",
              "      <td>0.0</td>\n",
              "      <td>0.0</td>\n",
              "      <td>111.0</td>\n",
              "      <td>91.0</td>\n",
              "      <td>129.0</td>\n",
              "      <td>105.0</td>\n",
              "      <td>21.0</td>\n",
              "      <td>13.0</td>\n",
              "      <td>21.0</td>\n",
              "      <td>13.0</td>\n",
              "      <td>...</td>\n",
              "      <td>28.824142</td>\n",
              "      <td>33.666833</td>\n",
              "      <td>60.238095</td>\n",
              "      <td>50.230415</td>\n",
              "      <td>0.070279</td>\n",
              "      <td>0.087525</td>\n",
              "      <td>50.558659</td>\n",
              "      <td>34.172662</td>\n",
              "      <td>77.462687</td>\n",
              "      <td>8.048780</td>\n",
              "      <td>45.691057</td>\n",
              "      <td>31.710709</td>\n",
              "      <td>69.692058</td>\n",
              "      <td>10.614525</td>\n",
              "      <td>43.710692</td>\n",
              "      <td>36.890713</td>\n",
              "      <td>53.381643</td>\n",
              "      <td>48.354430</td>\n",
              "      <td>0.064076</td>\n",
              "      <td>0.084127</td>\n",
              "      <td>67.9778</td>\n",
              "      <td>67.5056</td>\n",
              "      <td>103.298</td>\n",
              "      <td>110.803</td>\n",
              "      <td>101.4670</td>\n",
              "      <td>96.3335</td>\n",
              "      <td>68.4904</td>\n",
              "      <td>67.1950</td>\n",
              "      <td>107.243</td>\n",
              "      <td>113.5030</td>\n",
              "      <td>97.6744</td>\n",
              "      <td>92.4983</td>\n",
              "      <td>2019-1278.0-1257.0</td>\n",
              "      <td>376.942865</td>\n",
              "      <td>767.944158</td>\n",
              "      <td>-391.001293</td>\n",
              "      <td>0.833312</td>\n",
              "      <td>0.913200</td>\n",
              "      <td>0.322116</td>\n",
              "      <td>-1</td>\n",
              "    </tr>\n",
              "    <tr>\n",
              "      <th>5</th>\n",
              "      <td>1261.0</td>\n",
              "      <td>79</td>\n",
              "      <td>1463.0</td>\n",
              "      <td>74</td>\n",
              "      <td>N</td>\n",
              "      <td>0</td>\n",
              "      <td>W03</td>\n",
              "      <td>W14</td>\n",
              "      <td>3</td>\n",
              "      <td>14</td>\n",
              "      <td>3</td>\n",
              "      <td>14</td>\n",
              "      <td>W</td>\n",
              "      <td>W</td>\n",
              "      <td>R1W3</td>\n",
              "      <td>LSU</td>\n",
              "      <td>Yale</td>\n",
              "      <td>2019</td>\n",
              "      <td>jacksonville</td>\n",
              "      <td>30.3369</td>\n",
              "      <td>-81.6614</td>\n",
              "      <td>30.414805</td>\n",
              "      <td>-91.169552</td>\n",
              "      <td>41.310189</td>\n",
              "      <td>-72.928860</td>\n",
              "      <td>will-wade-1</td>\n",
              "      <td>0.0</td>\n",
              "      <td>2.0</td>\n",
              "      <td>0.0</td>\n",
              "      <td>0.0</td>\n",
              "      <td>0.0</td>\n",
              "      <td>0.0</td>\n",
              "      <td>44.0</td>\n",
              "      <td>21.0</td>\n",
              "      <td>135.0</td>\n",
              "      <td>66.0</td>\n",
              "      <td>26.0</td>\n",
              "      <td>6.0</td>\n",
              "      <td>26.0</td>\n",
              "      <td>6.0</td>\n",
              "      <td>...</td>\n",
              "      <td>34.329114</td>\n",
              "      <td>39.065817</td>\n",
              "      <td>46.052632</td>\n",
              "      <td>44.214373</td>\n",
              "      <td>0.125518</td>\n",
              "      <td>0.090580</td>\n",
              "      <td>55.765595</td>\n",
              "      <td>37.237762</td>\n",
              "      <td>72.107438</td>\n",
              "      <td>10.933082</td>\n",
              "      <td>47.125353</td>\n",
              "      <td>31.152648</td>\n",
              "      <td>73.449612</td>\n",
              "      <td>7.655955</td>\n",
              "      <td>35.092025</td>\n",
              "      <td>37.698180</td>\n",
              "      <td>57.658780</td>\n",
              "      <td>49.714286</td>\n",
              "      <td>0.078353</td>\n",
              "      <td>0.099448</td>\n",
              "      <td>70.5931</td>\n",
              "      <td>69.9424</td>\n",
              "      <td>112.474</td>\n",
              "      <td>118.620</td>\n",
              "      <td>100.6450</td>\n",
              "      <td>97.6208</td>\n",
              "      <td>72.6803</td>\n",
              "      <td>70.8110</td>\n",
              "      <td>108.955</td>\n",
              "      <td>110.5520</td>\n",
              "      <td>99.2049</td>\n",
              "      <td>102.2790</td>\n",
              "      <td>2019-1261.0-1463.0</td>\n",
              "      <td>912.184224</td>\n",
              "      <td>1450.772365</td>\n",
              "      <td>-538.588141</td>\n",
              "      <td>0.903836</td>\n",
              "      <td>0.709816</td>\n",
              "      <td>0.793493</td>\n",
              "      <td>-1</td>\n",
              "    </tr>\n",
              "    <tr>\n",
              "      <th>6</th>\n",
              "      <td>1120.0</td>\n",
              "      <td>78</td>\n",
              "      <td>1308.0</td>\n",
              "      <td>77</td>\n",
              "      <td>N</td>\n",
              "      <td>0</td>\n",
              "      <td>Y05</td>\n",
              "      <td>Y12</td>\n",
              "      <td>5</td>\n",
              "      <td>12</td>\n",
              "      <td>5</td>\n",
              "      <td>12</td>\n",
              "      <td>Y</td>\n",
              "      <td>Y</td>\n",
              "      <td>R1Y5</td>\n",
              "      <td>Auburn</td>\n",
              "      <td>New Mexico St</td>\n",
              "      <td>2019</td>\n",
              "      <td>salt_lake_city</td>\n",
              "      <td>40.7500</td>\n",
              "      <td>-111.8833</td>\n",
              "      <td>32.600201</td>\n",
              "      <td>-85.492409</td>\n",
              "      <td>32.282875</td>\n",
              "      <td>-106.747841</td>\n",
              "      <td>bruce-pearl-1</td>\n",
              "      <td>1.0</td>\n",
              "      <td>9.0</td>\n",
              "      <td>0.0</td>\n",
              "      <td>4.0</td>\n",
              "      <td>0.0</td>\n",
              "      <td>0.0</td>\n",
              "      <td>96.0</td>\n",
              "      <td>71.0</td>\n",
              "      <td>327.0</td>\n",
              "      <td>170.0</td>\n",
              "      <td>26.0</td>\n",
              "      <td>9.0</td>\n",
              "      <td>26.0</td>\n",
              "      <td>9.0</td>\n",
              "      <td>...</td>\n",
              "      <td>49.171271</td>\n",
              "      <td>44.596913</td>\n",
              "      <td>53.303471</td>\n",
              "      <td>51.890482</td>\n",
              "      <td>0.131936</td>\n",
              "      <td>0.086938</td>\n",
              "      <td>56.594488</td>\n",
              "      <td>34.052213</td>\n",
              "      <td>67.337461</td>\n",
              "      <td>7.523810</td>\n",
              "      <td>48.000000</td>\n",
              "      <td>33.135215</td>\n",
              "      <td>71.019678</td>\n",
              "      <td>5.905512</td>\n",
              "      <td>46.441750</td>\n",
              "      <td>39.059779</td>\n",
              "      <td>53.028571</td>\n",
              "      <td>38.239340</td>\n",
              "      <td>0.081167</td>\n",
              "      <td>0.070620</td>\n",
              "      <td>68.8680</td>\n",
              "      <td>67.5646</td>\n",
              "      <td>113.394</td>\n",
              "      <td>119.283</td>\n",
              "      <td>99.3776</td>\n",
              "      <td>97.1706</td>\n",
              "      <td>67.9012</td>\n",
              "      <td>65.6538</td>\n",
              "      <td>113.701</td>\n",
              "      <td>112.7330</td>\n",
              "      <td>95.2348</td>\n",
              "      <td>99.1319</td>\n",
              "      <td>2019-1120.0-1308.0</td>\n",
              "      <td>2510.843920</td>\n",
              "      <td>1047.219606</td>\n",
              "      <td>1463.624314</td>\n",
              "      <td>0.913556</td>\n",
              "      <td>0.814356</td>\n",
              "      <td>0.706674</td>\n",
              "      <td>-1</td>\n",
              "    </tr>\n",
              "    <tr>\n",
              "      <th>7</th>\n",
              "      <td>1437.0</td>\n",
              "      <td>61</td>\n",
              "      <td>1388.0</td>\n",
              "      <td>57</td>\n",
              "      <td>N</td>\n",
              "      <td>0</td>\n",
              "      <td>Z06</td>\n",
              "      <td>Z11</td>\n",
              "      <td>6</td>\n",
              "      <td>11</td>\n",
              "      <td>6</td>\n",
              "      <td>11</td>\n",
              "      <td>Z</td>\n",
              "      <td>Z</td>\n",
              "      <td>R1Z6</td>\n",
              "      <td>Villanova</td>\n",
              "      <td>St Mary's CA</td>\n",
              "      <td>2019</td>\n",
              "      <td>hartford</td>\n",
              "      <td>41.7600</td>\n",
              "      <td>-72.6700</td>\n",
              "      <td>40.039388</td>\n",
              "      <td>-75.345457</td>\n",
              "      <td>29.451793</td>\n",
              "      <td>-98.564307</td>\n",
              "      <td>jay-wright-1</td>\n",
              "      <td>13.0</td>\n",
              "      <td>15.0</td>\n",
              "      <td>6.0</td>\n",
              "      <td>6.0</td>\n",
              "      <td>3.0</td>\n",
              "      <td>3.0</td>\n",
              "      <td>447.0</td>\n",
              "      <td>174.0</td>\n",
              "      <td>569.0</td>\n",
              "      <td>259.0</td>\n",
              "      <td>25.0</td>\n",
              "      <td>9.0</td>\n",
              "      <td>25.0</td>\n",
              "      <td>9.0</td>\n",
              "      <td>...</td>\n",
              "      <td>53.504184</td>\n",
              "      <td>39.253810</td>\n",
              "      <td>57.738095</td>\n",
              "      <td>56.242424</td>\n",
              "      <td>0.081587</td>\n",
              "      <td>0.080701</td>\n",
              "      <td>52.495840</td>\n",
              "      <td>37.808642</td>\n",
              "      <td>74.499089</td>\n",
              "      <td>6.857143</td>\n",
              "      <td>49.061224</td>\n",
              "      <td>31.785714</td>\n",
              "      <td>73.904762</td>\n",
              "      <td>9.234609</td>\n",
              "      <td>35.027027</td>\n",
              "      <td>31.372549</td>\n",
              "      <td>37.899543</td>\n",
              "      <td>43.003851</td>\n",
              "      <td>0.092672</td>\n",
              "      <td>0.076758</td>\n",
              "      <td>65.6680</td>\n",
              "      <td>63.6750</td>\n",
              "      <td>112.402</td>\n",
              "      <td>117.095</td>\n",
              "      <td>101.4370</td>\n",
              "      <td>98.3195</td>\n",
              "      <td>64.5057</td>\n",
              "      <td>62.7127</td>\n",
              "      <td>112.690</td>\n",
              "      <td>114.8060</td>\n",
              "      <td>99.1877</td>\n",
              "      <td>97.0644</td>\n",
              "      <td>2019-1437.0-1388.0</td>\n",
              "      <td>295.309127</td>\n",
              "      <td>2696.708021</td>\n",
              "      <td>-2401.398894</td>\n",
              "      <td>0.881820</td>\n",
              "      <td>0.873304</td>\n",
              "      <td>0.519810</td>\n",
              "      <td>-1</td>\n",
              "    </tr>\n",
              "    <tr>\n",
              "      <th>8</th>\n",
              "      <td>1196.0</td>\n",
              "      <td>70</td>\n",
              "      <td>1305.0</td>\n",
              "      <td>61</td>\n",
              "      <td>N</td>\n",
              "      <td>0</td>\n",
              "      <td>X10</td>\n",
              "      <td>X07</td>\n",
              "      <td>10</td>\n",
              "      <td>7</td>\n",
              "      <td>7</td>\n",
              "      <td>10</td>\n",
              "      <td>X</td>\n",
              "      <td>X</td>\n",
              "      <td>R1X7</td>\n",
              "      <td>Florida</td>\n",
              "      <td>Nevada</td>\n",
              "      <td>2019</td>\n",
              "      <td>des_moines</td>\n",
              "      <td>41.6000</td>\n",
              "      <td>-93.6100</td>\n",
              "      <td>29.638248</td>\n",
              "      <td>-82.361195</td>\n",
              "      <td>39.552523</td>\n",
              "      <td>-119.825260</td>\n",
              "      <td>michael-white-1</td>\n",
              "      <td>2.0</td>\n",
              "      <td>2.0</td>\n",
              "      <td>1.0</td>\n",
              "      <td>1.0</td>\n",
              "      <td>0.0</td>\n",
              "      <td>0.0</td>\n",
              "      <td>88.0</td>\n",
              "      <td>52.0</td>\n",
              "      <td>189.0</td>\n",
              "      <td>92.0</td>\n",
              "      <td>19.0</td>\n",
              "      <td>15.0</td>\n",
              "      <td>19.0</td>\n",
              "      <td>15.0</td>\n",
              "      <td>...</td>\n",
              "      <td>43.418983</td>\n",
              "      <td>37.971175</td>\n",
              "      <td>51.105651</td>\n",
              "      <td>48.754915</td>\n",
              "      <td>0.109531</td>\n",
              "      <td>0.093820</td>\n",
              "      <td>55.076370</td>\n",
              "      <td>35.138387</td>\n",
              "      <td>70.796460</td>\n",
              "      <td>11.139896</td>\n",
              "      <td>46.027634</td>\n",
              "      <td>33.376455</td>\n",
              "      <td>67.166979</td>\n",
              "      <td>7.187781</td>\n",
              "      <td>42.746914</td>\n",
              "      <td>40.031072</td>\n",
              "      <td>54.585635</td>\n",
              "      <td>51.959545</td>\n",
              "      <td>0.087144</td>\n",
              "      <td>0.064077</td>\n",
              "      <td>64.8004</td>\n",
              "      <td>62.7575</td>\n",
              "      <td>104.227</td>\n",
              "      <td>110.318</td>\n",
              "      <td>97.2175</td>\n",
              "      <td>91.9997</td>\n",
              "      <td>70.9379</td>\n",
              "      <td>69.2830</td>\n",
              "      <td>113.948</td>\n",
              "      <td>114.1250</td>\n",
              "      <td>94.4650</td>\n",
              "      <td>95.1961</td>\n",
              "      <td>2019-1196.0-1305.0</td>\n",
              "      <td>1671.542429</td>\n",
              "      <td>2217.840844</td>\n",
              "      <td>-546.298415</td>\n",
              "      <td>0.889750</td>\n",
              "      <td>0.889494</td>\n",
              "      <td>0.500651</td>\n",
              "      <td>-1</td>\n",
              "    </tr>\n",
              "    <tr>\n",
              "      <th>9</th>\n",
              "      <td>1459.0</td>\n",
              "      <td>84</td>\n",
              "      <td>1371.0</td>\n",
              "      <td>68</td>\n",
              "      <td>N</td>\n",
              "      <td>0</td>\n",
              "      <td>Y07</td>\n",
              "      <td>Y10</td>\n",
              "      <td>7</td>\n",
              "      <td>10</td>\n",
              "      <td>7</td>\n",
              "      <td>10</td>\n",
              "      <td>Y</td>\n",
              "      <td>Y</td>\n",
              "      <td>R1Y7</td>\n",
              "      <td>Wofford</td>\n",
              "      <td>Seton Hall</td>\n",
              "      <td>2019</td>\n",
              "      <td>jacksonville</td>\n",
              "      <td>30.3369</td>\n",
              "      <td>-81.6614</td>\n",
              "      <td>34.957914</td>\n",
              "      <td>-81.934572</td>\n",
              "      <td>40.742859</td>\n",
              "      <td>-74.248753</td>\n",
              "      <td>mike-young-1</td>\n",
              "      <td>4.0</td>\n",
              "      <td>4.0</td>\n",
              "      <td>0.0</td>\n",
              "      <td>0.0</td>\n",
              "      <td>0.0</td>\n",
              "      <td>0.0</td>\n",
              "      <td>298.0</td>\n",
              "      <td>243.0</td>\n",
              "      <td>298.0</td>\n",
              "      <td>243.0</td>\n",
              "      <td>29.0</td>\n",
              "      <td>4.0</td>\n",
              "      <td>29.0</td>\n",
              "      <td>4.0</td>\n",
              "      <td>...</td>\n",
              "      <td>43.483084</td>\n",
              "      <td>40.206186</td>\n",
              "      <td>50.170648</td>\n",
              "      <td>48.539638</td>\n",
              "      <td>0.089290</td>\n",
              "      <td>0.081526</td>\n",
              "      <td>50.763052</td>\n",
              "      <td>32.352941</td>\n",
              "      <td>70.821114</td>\n",
              "      <td>11.168831</td>\n",
              "      <td>48.658009</td>\n",
              "      <td>33.594771</td>\n",
              "      <td>73.920000</td>\n",
              "      <td>11.726908</td>\n",
              "      <td>36.447167</td>\n",
              "      <td>39.843750</td>\n",
              "      <td>51.796060</td>\n",
              "      <td>53.479853</td>\n",
              "      <td>0.098743</td>\n",
              "      <td>0.082072</td>\n",
              "      <td>68.1431</td>\n",
              "      <td>65.7033</td>\n",
              "      <td>117.982</td>\n",
              "      <td>118.483</td>\n",
              "      <td>97.8958</td>\n",
              "      <td>97.7629</td>\n",
              "      <td>70.1052</td>\n",
              "      <td>68.9881</td>\n",
              "      <td>104.576</td>\n",
              "      <td>109.4190</td>\n",
              "      <td>100.8930</td>\n",
              "      <td>96.5216</td>\n",
              "      <td>2019-1459.0-1371.0</td>\n",
              "      <td>514.630185</td>\n",
              "      <td>1336.588571</td>\n",
              "      <td>-821.958386</td>\n",
              "      <td>0.901196</td>\n",
              "      <td>0.808811</td>\n",
              "      <td>0.683148</td>\n",
              "      <td>-1</td>\n",
              "    </tr>\n",
              "  </tbody>\n",
              "</table>\n",
              "<p>10 rows × 111 columns</p>\n",
              "</div>"
            ],
            "text/plain": [
              "   team1_id  team1_score  team2_id  ...  exp_win2 team1_log5  seed_diff\n",
              "0    1192.0           82    1341.0  ...  0.382990   0.506403         -1\n",
              "1    1125.0           81    1396.0  ...  0.738939   0.585922         -1\n",
              "2    1295.0           78    1300.0  ...  0.208404   0.730051         -1\n",
              "3    1113.0           74    1385.0  ...  0.721882   0.570190         -1\n",
              "4    1278.0           86    1257.0  ...  0.913200   0.322116         -1\n",
              "5    1261.0           79    1463.0  ...  0.709816   0.793493         -1\n",
              "6    1120.0           78    1308.0  ...  0.814356   0.706674         -1\n",
              "7    1437.0           61    1388.0  ...  0.873304   0.519810         -1\n",
              "8    1196.0           70    1305.0  ...  0.889494   0.500651         -1\n",
              "9    1459.0           84    1371.0  ...  0.808811   0.683148         -1\n",
              "\n",
              "[10 rows x 111 columns]"
            ]
          },
          "metadata": {
            "tags": []
          },
          "execution_count": 15
        }
      ]
    },
    {
      "cell_type": "code",
      "metadata": {
        "colab": {
          "base_uri": "https://localhost:8080/"
        },
        "id": "3GM78fDG7Wgs",
        "outputId": "42a3c037-27e9-4f56-f54a-e86109599e58"
      },
      "source": [
        "any(['team1_log5']) is None"
      ],
      "execution_count": null,
      "outputs": [
        {
          "output_type": "execute_result",
          "data": {
            "text/plain": [
              "False"
            ]
          },
          "metadata": {
            "tags": []
          },
          "execution_count": 16
        }
      ]
    },
    {
      "cell_type": "code",
      "metadata": {
        "id": "D-QYVXRW7Wi-"
      },
      "source": [
        "# Split data"
      ],
      "execution_count": null,
      "outputs": []
    },
    {
      "cell_type": "code",
      "metadata": {
        "colab": {
          "base_uri": "https://localhost:8080/",
          "height": 293
        },
        "id": "33VIrZOn7WlS",
        "outputId": "1aabf72e-e0c0-47bb-9592-7d0f1fed6ac8"
      },
      "source": [
        "df.head(3)"
      ],
      "execution_count": null,
      "outputs": [
        {
          "output_type": "execute_result",
          "data": {
            "text/html": [
              "<div>\n",
              "<style scoped>\n",
              "    .dataframe tbody tr th:only-of-type {\n",
              "        vertical-align: middle;\n",
              "    }\n",
              "\n",
              "    .dataframe tbody tr th {\n",
              "        vertical-align: top;\n",
              "    }\n",
              "\n",
              "    .dataframe thead th {\n",
              "        text-align: right;\n",
              "    }\n",
              "</style>\n",
              "<table border=\"1\" class=\"dataframe\">\n",
              "  <thead>\n",
              "    <tr style=\"text-align: right;\">\n",
              "      <th></th>\n",
              "      <th>team1_id</th>\n",
              "      <th>team1_score</th>\n",
              "      <th>team2_id</th>\n",
              "      <th>team2_score</th>\n",
              "      <th>WLoc</th>\n",
              "      <th>num_ot</th>\n",
              "      <th>team1_position</th>\n",
              "      <th>team2_position</th>\n",
              "      <th>team1_seed</th>\n",
              "      <th>team2_seed</th>\n",
              "      <th>strongseed</th>\n",
              "      <th>weakseed</th>\n",
              "      <th>team1_region</th>\n",
              "      <th>team2_region</th>\n",
              "      <th>slot</th>\n",
              "      <th>team1_teamname</th>\n",
              "      <th>team2_teamname</th>\n",
              "      <th>season</th>\n",
              "      <th>host</th>\n",
              "      <th>host_lat</th>\n",
              "      <th>host_long</th>\n",
              "      <th>team1_lat</th>\n",
              "      <th>team1_long</th>\n",
              "      <th>team2_lat</th>\n",
              "      <th>team2_long</th>\n",
              "      <th>team1_coach_id</th>\n",
              "      <th>team1_pt_school_ncaa</th>\n",
              "      <th>team1_pt_overall_ncaa</th>\n",
              "      <th>team1_pt_school_s16</th>\n",
              "      <th>team1_pt_overall_s16</th>\n",
              "      <th>team1_pt_school_ff</th>\n",
              "      <th>team1_pt_overall_ff</th>\n",
              "      <th>team1_pt_career_school_wins</th>\n",
              "      <th>team1_pt_career_school_losses</th>\n",
              "      <th>team1_pt_career_overall_wins</th>\n",
              "      <th>team1_pt_career_overall_losses</th>\n",
              "      <th>team1_pt_team_season_wins</th>\n",
              "      <th>team1_pt_team_season_losses</th>\n",
              "      <th>team1_pt_coach_season_wins</th>\n",
              "      <th>team1_pt_coach_season_losses</th>\n",
              "      <th>...</th>\n",
              "      <th>team1_f3grate</th>\n",
              "      <th>team1_oppf3grate</th>\n",
              "      <th>team1_arate</th>\n",
              "      <th>team1_opparate</th>\n",
              "      <th>team1_stlrate</th>\n",
              "      <th>team1_oppstlrate</th>\n",
              "      <th>team2_fg2pct</th>\n",
              "      <th>team2_fg3pct</th>\n",
              "      <th>team2_ftpct</th>\n",
              "      <th>team2_blockpct</th>\n",
              "      <th>team2_oppfg2pct</th>\n",
              "      <th>team2_oppfg3pct</th>\n",
              "      <th>team2_oppftpct</th>\n",
              "      <th>team2_oppblockpct</th>\n",
              "      <th>team2_f3grate</th>\n",
              "      <th>team2_oppf3grate</th>\n",
              "      <th>team2_arate</th>\n",
              "      <th>team2_opparate</th>\n",
              "      <th>team2_stlrate</th>\n",
              "      <th>team2_oppstlrate</th>\n",
              "      <th>team1_tempo</th>\n",
              "      <th>team1_adjtempo</th>\n",
              "      <th>team1_oe</th>\n",
              "      <th>team1_adjoe</th>\n",
              "      <th>team1_de</th>\n",
              "      <th>team1_adjde</th>\n",
              "      <th>team2_tempo</th>\n",
              "      <th>team2_adjtempo</th>\n",
              "      <th>team2_oe</th>\n",
              "      <th>team2_adjoe</th>\n",
              "      <th>team2_de</th>\n",
              "      <th>team2_adjde</th>\n",
              "      <th>game_id</th>\n",
              "      <th>dist1</th>\n",
              "      <th>dist2</th>\n",
              "      <th>diff_dist</th>\n",
              "      <th>exp_win1</th>\n",
              "      <th>exp_win2</th>\n",
              "      <th>team1_log5</th>\n",
              "      <th>seed_diff</th>\n",
              "    </tr>\n",
              "  </thead>\n",
              "  <tbody>\n",
              "    <tr>\n",
              "      <th>0</th>\n",
              "      <td>1192.0</td>\n",
              "      <td>82</td>\n",
              "      <td>1341.0</td>\n",
              "      <td>76</td>\n",
              "      <td>N</td>\n",
              "      <td>0</td>\n",
              "      <td>X16a</td>\n",
              "      <td>X16b</td>\n",
              "      <td>16</td>\n",
              "      <td>16</td>\n",
              "      <td>16</td>\n",
              "      <td>16</td>\n",
              "      <td>X</td>\n",
              "      <td>X</td>\n",
              "      <td>X16</td>\n",
              "      <td>F Dickinson</td>\n",
              "      <td>Prairie View</td>\n",
              "      <td>2019</td>\n",
              "      <td>dayton</td>\n",
              "      <td>39.7594</td>\n",
              "      <td>-84.1917</td>\n",
              "      <td>40.896162</td>\n",
              "      <td>-74.030023</td>\n",
              "      <td>30.094591</td>\n",
              "      <td>-95.992066</td>\n",
              "      <td>greg-herenda-1</td>\n",
              "      <td>1.0</td>\n",
              "      <td>1.0</td>\n",
              "      <td>0.0</td>\n",
              "      <td>0.0</td>\n",
              "      <td>0.0</td>\n",
              "      <td>0.0</td>\n",
              "      <td>81.0</td>\n",
              "      <td>107.0</td>\n",
              "      <td>81.0</td>\n",
              "      <td>107.0</td>\n",
              "      <td>21.0</td>\n",
              "      <td>13.0</td>\n",
              "      <td>21.0</td>\n",
              "      <td>13.0</td>\n",
              "      <td>...</td>\n",
              "      <td>34.929907</td>\n",
              "      <td>38.516879</td>\n",
              "      <td>53.201970</td>\n",
              "      <td>51.477833</td>\n",
              "      <td>0.108950</td>\n",
              "      <td>0.089778</td>\n",
              "      <td>49.649805</td>\n",
              "      <td>31.432974</td>\n",
              "      <td>68.149883</td>\n",
              "      <td>4.616725</td>\n",
              "      <td>53.484321</td>\n",
              "      <td>30.793157</td>\n",
              "      <td>69.304556</td>\n",
              "      <td>11.050584</td>\n",
              "      <td>33.557394</td>\n",
              "      <td>35.901731</td>\n",
              "      <td>48.218527</td>\n",
              "      <td>52.093596</td>\n",
              "      <td>0.121483</td>\n",
              "      <td>0.070552</td>\n",
              "      <td>67.8895</td>\n",
              "      <td>66.8424</td>\n",
              "      <td>108.370</td>\n",
              "      <td>106.296</td>\n",
              "      <td>104.7090</td>\n",
              "      <td>110.550</td>\n",
              "      <td>72.5879</td>\n",
              "      <td>71.0282</td>\n",
              "      <td>103.120</td>\n",
              "      <td>101.6550</td>\n",
              "      <td>99.7542</td>\n",
              "      <td>105.959</td>\n",
              "      <td>2019-1192.0-1341.0</td>\n",
              "      <td>870.390058</td>\n",
              "      <td>1518.423483</td>\n",
              "      <td>-648.033425</td>\n",
              "      <td>0.389061</td>\n",
              "      <td>0.382990</td>\n",
              "      <td>0.506403</td>\n",
              "      <td>-1</td>\n",
              "    </tr>\n",
              "    <tr>\n",
              "      <th>1</th>\n",
              "      <td>1125.0</td>\n",
              "      <td>81</td>\n",
              "      <td>1396.0</td>\n",
              "      <td>70</td>\n",
              "      <td>N</td>\n",
              "      <td>0</td>\n",
              "      <td>W11a</td>\n",
              "      <td>W11b</td>\n",
              "      <td>11</td>\n",
              "      <td>11</td>\n",
              "      <td>11</td>\n",
              "      <td>11</td>\n",
              "      <td>W</td>\n",
              "      <td>W</td>\n",
              "      <td>W11</td>\n",
              "      <td>Belmont</td>\n",
              "      <td>Temple</td>\n",
              "      <td>2019</td>\n",
              "      <td>dayton</td>\n",
              "      <td>39.7594</td>\n",
              "      <td>-84.1917</td>\n",
              "      <td>36.133866</td>\n",
              "      <td>-86.794715</td>\n",
              "      <td>39.980943</td>\n",
              "      <td>-75.158267</td>\n",
              "      <td>rick-byrd-1</td>\n",
              "      <td>7.0</td>\n",
              "      <td>7.0</td>\n",
              "      <td>0.0</td>\n",
              "      <td>0.0</td>\n",
              "      <td>0.0</td>\n",
              "      <td>0.0</td>\n",
              "      <td>415.0</td>\n",
              "      <td>219.0</td>\n",
              "      <td>415.0</td>\n",
              "      <td>219.0</td>\n",
              "      <td>27.0</td>\n",
              "      <td>5.0</td>\n",
              "      <td>27.0</td>\n",
              "      <td>5.0</td>\n",
              "      <td>...</td>\n",
              "      <td>43.828452</td>\n",
              "      <td>34.675732</td>\n",
              "      <td>61.894737</td>\n",
              "      <td>44.512195</td>\n",
              "      <td>0.089031</td>\n",
              "      <td>0.082799</td>\n",
              "      <td>50.374688</td>\n",
              "      <td>33.057851</td>\n",
              "      <td>73.113208</td>\n",
              "      <td>6.315789</td>\n",
              "      <td>51.140351</td>\n",
              "      <td>32.670455</td>\n",
              "      <td>67.684887</td>\n",
              "      <td>6.744380</td>\n",
              "      <td>37.675143</td>\n",
              "      <td>38.177874</td>\n",
              "      <td>54.792899</td>\n",
              "      <td>49.938499</td>\n",
              "      <td>0.121583</td>\n",
              "      <td>0.077251</td>\n",
              "      <td>74.2457</td>\n",
              "      <td>71.1915</td>\n",
              "      <td>116.393</td>\n",
              "      <td>114.952</td>\n",
              "      <td>99.6691</td>\n",
              "      <td>101.886</td>\n",
              "      <td>70.1158</td>\n",
              "      <td>68.8256</td>\n",
              "      <td>105.306</td>\n",
              "      <td>108.9910</td>\n",
              "      <td>100.1860</td>\n",
              "      <td>99.563</td>\n",
              "      <td>2019-1125.0-1396.0</td>\n",
              "      <td>463.360180</td>\n",
              "      <td>771.236814</td>\n",
              "      <td>-307.876634</td>\n",
              "      <td>0.800207</td>\n",
              "      <td>0.738939</td>\n",
              "      <td>0.585922</td>\n",
              "      <td>-1</td>\n",
              "    </tr>\n",
              "    <tr>\n",
              "      <th>2</th>\n",
              "      <td>1295.0</td>\n",
              "      <td>78</td>\n",
              "      <td>1300.0</td>\n",
              "      <td>74</td>\n",
              "      <td>N</td>\n",
              "      <td>0</td>\n",
              "      <td>W16a</td>\n",
              "      <td>W16b</td>\n",
              "      <td>16</td>\n",
              "      <td>16</td>\n",
              "      <td>16</td>\n",
              "      <td>16</td>\n",
              "      <td>W</td>\n",
              "      <td>W</td>\n",
              "      <td>W16</td>\n",
              "      <td>N Dakota St</td>\n",
              "      <td>NC Central</td>\n",
              "      <td>2019</td>\n",
              "      <td>dayton</td>\n",
              "      <td>39.7594</td>\n",
              "      <td>-84.1917</td>\n",
              "      <td>46.894523</td>\n",
              "      <td>-96.805689</td>\n",
              "      <td>35.974237</td>\n",
              "      <td>-78.898602</td>\n",
              "      <td>david-richman-1</td>\n",
              "      <td>1.0</td>\n",
              "      <td>1.0</td>\n",
              "      <td>0.0</td>\n",
              "      <td>0.0</td>\n",
              "      <td>0.0</td>\n",
              "      <td>0.0</td>\n",
              "      <td>96.0</td>\n",
              "      <td>66.0</td>\n",
              "      <td>96.0</td>\n",
              "      <td>66.0</td>\n",
              "      <td>19.0</td>\n",
              "      <td>15.0</td>\n",
              "      <td>19.0</td>\n",
              "      <td>15.0</td>\n",
              "      <td>...</td>\n",
              "      <td>48.172170</td>\n",
              "      <td>35.718247</td>\n",
              "      <td>46.062992</td>\n",
              "      <td>44.994111</td>\n",
              "      <td>0.070765</td>\n",
              "      <td>0.079430</td>\n",
              "      <td>51.674641</td>\n",
              "      <td>31.177446</td>\n",
              "      <td>70.363636</td>\n",
              "      <td>6.912029</td>\n",
              "      <td>50.897666</td>\n",
              "      <td>31.533101</td>\n",
              "      <td>68.773946</td>\n",
              "      <td>10.909091</td>\n",
              "      <td>36.589806</td>\n",
              "      <td>34.004739</td>\n",
              "      <td>59.478022</td>\n",
              "      <td>52.540107</td>\n",
              "      <td>0.078098</td>\n",
              "      <td>0.090950</td>\n",
              "      <td>66.4861</td>\n",
              "      <td>64.8533</td>\n",
              "      <td>108.198</td>\n",
              "      <td>106.675</td>\n",
              "      <td>110.0540</td>\n",
              "      <td>109.873</td>\n",
              "      <td>67.1363</td>\n",
              "      <td>65.2686</td>\n",
              "      <td>100.502</td>\n",
              "      <td>96.7551</td>\n",
              "      <td>100.7490</td>\n",
              "      <td>108.661</td>\n",
              "      <td>2019-1295.0-1300.0</td>\n",
              "      <td>1290.217292</td>\n",
              "      <td>626.900746</td>\n",
              "      <td>663.316546</td>\n",
              "      <td>0.415885</td>\n",
              "      <td>0.208404</td>\n",
              "      <td>0.730051</td>\n",
              "      <td>-1</td>\n",
              "    </tr>\n",
              "  </tbody>\n",
              "</table>\n",
              "<p>3 rows × 111 columns</p>\n",
              "</div>"
            ],
            "text/plain": [
              "   team1_id  team1_score  team2_id  ...  exp_win2 team1_log5  seed_diff\n",
              "0    1192.0           82    1341.0  ...  0.382990   0.506403         -1\n",
              "1    1125.0           81    1396.0  ...  0.738939   0.585922         -1\n",
              "2    1295.0           78    1300.0  ...  0.208404   0.730051         -1\n",
              "\n",
              "[3 rows x 111 columns]"
            ]
          },
          "metadata": {
            "tags": []
          },
          "execution_count": 18
        }
      ]
    },
    {
      "cell_type": "code",
      "metadata": {
        "id": "3cc30HJb7WoC"
      },
      "source": [
        "df['team1_win'] = (df['team1_score']>df['team2_score']).astype(int)"
      ],
      "execution_count": null,
      "outputs": []
    },
    {
      "cell_type": "code",
      "metadata": {
        "id": "1tFpdBcgJKO7"
      },
      "source": [
        "def tran(x):\n",
        "  if x != 0:\n",
        "    return 1\n",
        "  else: \n",
        "    return 0\n"
      ],
      "execution_count": null,
      "outputs": []
    },
    {
      "cell_type": "markdown",
      "metadata": {
        "id": "cOlnQHd8JmIE"
      },
      "source": [
        "## Add one more feature here ! \n",
        "\n",
        "Has the team coach been to final four before?\n",
        "\n",
        "team_ff \n",
        "\n",
        "Yes-1\n",
        "\n",
        "No-0"
      ]
    },
    {
      "cell_type": "code",
      "metadata": {
        "id": "fFxFEmoOJMb3"
      },
      "source": [
        "df['team1_ff'] = df['team1_pt_overall_ff'].apply(tran)"
      ],
      "execution_count": null,
      "outputs": []
    },
    {
      "cell_type": "code",
      "metadata": {
        "id": "3p7b5h0VJMeF"
      },
      "source": [
        "df['team2_ff'] = df['team2_pt_overall_ff'].apply(tran)"
      ],
      "execution_count": null,
      "outputs": []
    },
    {
      "cell_type": "code",
      "metadata": {
        "id": "qwKIMZ_6Jf7T"
      },
      "source": [
        "df['ff_diff'] = df['team1_ff'] - df['team2_ff']"
      ],
      "execution_count": null,
      "outputs": []
    },
    {
      "cell_type": "code",
      "metadata": {
        "colab": {
          "base_uri": "https://localhost:8080/"
        },
        "id": "m4EHl32VJgD3",
        "outputId": "516e8c0a-8718-428a-9754-955834ec80cd"
      },
      "source": [
        "len(df['team1_ff'])"
      ],
      "execution_count": null,
      "outputs": [
        {
          "output_type": "execute_result",
          "data": {
            "text/plain": [
              "1167"
            ]
          },
          "metadata": {
            "tags": []
          },
          "execution_count": 24
        }
      ]
    },
    {
      "cell_type": "code",
      "metadata": {
        "id": "mH7ZGo56Ptsu"
      },
      "source": [
        "df.to_csv(\"Processed_dataset.csv\")\n",
        "from google.colab import files\n",
        "#files.download(\"Processed_dataset.csv\")"
      ],
      "execution_count": null,
      "outputs": []
    },
    {
      "cell_type": "code",
      "metadata": {
        "id": "n3BAnTaZ7WqB"
      },
      "source": [
        "np.random.seed(0)\n",
        "\n",
        "def shuffle(df):     \n",
        "    df = df.reindex(np.random.permutation(df.index)).copy()\n",
        "    return df.reset_index(drop=True)\n",
        "random_indices = random.sample(range(len(df)), int(len(df)/2))"
      ],
      "execution_count": null,
      "outputs": []
    },
    {
      "cell_type": "code",
      "metadata": {
        "id": "RORjhvv8w7BX"
      },
      "source": [
        "df_1 = df[~df.index.isin(random_indices)][['game_id','season','team1_win','exp_win1','exp_win2','team2_score', 'team1_score','diff_dist','team1_log5','team1_id','team2_id','seed_diff', 'ff_diff']].reset_index(drop=True)\n",
        "df_2 = df[df.index.isin(random_indices)][['game_id','season','team1_win','exp_win1','exp_win2','team2_score','team1_score','diff_dist','team1_log5','team1_id','team2_id','seed_diff', 'ff_diff']].reset_index(drop=True)"
      ],
      "execution_count": null,
      "outputs": []
    },
    {
      "cell_type": "code",
      "metadata": {
        "id": "-ljqIFuBATlB"
      },
      "source": [
        "df_2['team1_win'] = df['team1_win'].apply(lambda x: 1 if x==0 else 0)\n",
        "df_2['diff_dist'] = df['diff_dist']*-1\n",
        "df_2['ff_diff'] = df['ff_diff']*-1\n",
        "df_2['seed_diff'] = df['seed_diff']*-1\n",
        "df_2.columns = ['game_id', 'season', 'team1_win', 'exp_win2', 'exp_win1', 'team1_score', 'team2_score', 'diff_dist', 'team1_log5',\n",
        " 'team2_id', 'team1_id','seed_diff', 'ff_diff']\n",
        "\n"
      ],
      "execution_count": null,
      "outputs": []
    },
    {
      "cell_type": "code",
      "metadata": {
        "id": "4V0cfbXuMsqS"
      },
      "source": [
        "mm_train = pd.concat([df_2, df_1])"
      ],
      "execution_count": null,
      "outputs": []
    },
    {
      "cell_type": "code",
      "metadata": {
        "id": "bHeYvdO9Mss5"
      },
      "source": [
        "mm_data_2019 = mm_train[mm_train['season'] == 2019].reset_index(drop=True)\n",
        "mm_data_else =  mm_train[mm_train['season'] != 2019].reset_index(drop=True)"
      ],
      "execution_count": null,
      "outputs": []
    },
    {
      "cell_type": "markdown",
      "metadata": {
        "id": "nEFq_cQMOCkK"
      },
      "source": [
        "Initial check(Add one more feature)"
      ]
    },
    {
      "cell_type": "code",
      "metadata": {
        "colab": {
          "base_uri": "https://localhost:8080/"
        },
        "id": "cGpYm6wMOBiD",
        "outputId": "800c9f0e-1b30-4124-d6b1-2a16abb2fb06"
      },
      "source": [
        "mm_data_else.groupby('team1_win')['team1_log5'].mean()\n"
      ],
      "execution_count": null,
      "outputs": [
        {
          "output_type": "execute_result",
          "data": {
            "text/plain": [
              "team1_win\n",
              "0    0.616196\n",
              "1    0.624193\n",
              "Name: team1_log5, dtype: float64"
            ]
          },
          "metadata": {
            "tags": []
          },
          "execution_count": 32
        }
      ]
    },
    {
      "cell_type": "code",
      "metadata": {
        "colab": {
          "base_uri": "https://localhost:8080/"
        },
        "id": "I7VSJ96yMsyH",
        "outputId": "1edba067-9484-452c-cde7-43a105576c82"
      },
      "source": [
        "mm_data_else.groupby('team1_win')['diff_dist'].mean()"
      ],
      "execution_count": null,
      "outputs": [
        {
          "output_type": "execute_result",
          "data": {
            "text/plain": [
              "team1_win\n",
              "0    232.610428\n",
              "1   -254.214522\n",
              "Name: diff_dist, dtype: float64"
            ]
          },
          "metadata": {
            "tags": []
          },
          "execution_count": 33
        }
      ]
    },
    {
      "cell_type": "code",
      "metadata": {
        "colab": {
          "base_uri": "https://localhost:8080/"
        },
        "id": "jEPhc4A7Ms0y",
        "outputId": "47ec55e9-81c3-4749-bb7e-03cfab40760f"
      },
      "source": [
        "mm_data_else.groupby('team1_win')['ff_diff'].mean()"
      ],
      "execution_count": null,
      "outputs": [
        {
          "output_type": "execute_result",
          "data": {
            "text/plain": [
              "team1_win\n",
              "0   -0.176685\n",
              "1    0.208711\n",
              "Name: ff_diff, dtype: float64"
            ]
          },
          "metadata": {
            "tags": []
          },
          "execution_count": 34
        }
      ]
    },
    {
      "cell_type": "markdown",
      "metadata": {
        "id": "G0ALNQhxaPGh"
      },
      "source": [
        "# 4 features :'team1_log5','diff_dist','seed_diff', 'ff_diff'"
      ]
    },
    {
      "cell_type": "code",
      "metadata": {
        "id": "bwzxhQdCd8lj"
      },
      "source": [
        "from sklearn.metrics import make_scorer"
      ],
      "execution_count": null,
      "outputs": []
    },
    {
      "cell_type": "code",
      "metadata": {
        "colab": {
          "base_uri": "https://localhost:8080/"
        },
        "id": "jM4JPC6NaAXa",
        "outputId": "a8949346-8eba-462a-9885-542cd4d43aa0"
      },
      "source": [
        "scaler = StandardScaler()\n",
        "mm_train_scaled = scaler.fit_transform(mm_data_else[['team1_log5','diff_dist','seed_diff', 'ff_diff']])\n",
        "\n",
        "labels = np.unique(mm_data_else['team1_win'])\n",
        "scoring = make_scorer(log_loss, greater_is_better=False, labels=labels, needs_proba=True)\n",
        "\n",
        "\n",
        "logit = LogisticRegressionCV(scoring=scoring)\n",
        "logit.fit(mm_train_scaled, mm_data_else['team1_win'])\n"
      ],
      "execution_count": null,
      "outputs": [
        {
          "output_type": "execute_result",
          "data": {
            "text/plain": [
              "LogisticRegressionCV(Cs=10, class_weight=None, cv=None, dual=False,\n",
              "                     fit_intercept=True, intercept_scaling=1.0, l1_ratios=None,\n",
              "                     max_iter=100, multi_class='auto', n_jobs=None,\n",
              "                     penalty='l2', random_state=None, refit=True,\n",
              "                     scoring=make_scorer(log_loss, greater_is_better=False, needs_proba=True, labels=[0 1]),\n",
              "                     solver='lbfgs', tol=0.0001, verbose=0)"
            ]
          },
          "metadata": {
            "tags": []
          },
          "execution_count": 36
        }
      ]
    },
    {
      "cell_type": "code",
      "metadata": {
        "colab": {
          "base_uri": "https://localhost:8080/"
        },
        "id": "tVqpK3OLGf0Z",
        "outputId": "134cec64-4d1a-4c2c-f651-06a5d6dd991b"
      },
      "source": [
        "mm_train_scaled"
      ],
      "execution_count": null,
      "outputs": [
        {
          "output_type": "execute_result",
          "data": {
            "text/plain": [
              "array([[ 0.13623207, -0.5925409 , -1.00181984,  1.42556613],\n",
              "       [ 0.83681433, -0.85465824,  0.99818347, -0.02371552],\n",
              "       [ 1.79081222,  0.653166  ,  0.99818347, -1.47299717],\n",
              "       ...,\n",
              "       [ 1.14607647, -0.03730147, -1.00181984, -0.02371552],\n",
              "       [-1.4696495 , -1.07855668, -1.00181984, -0.02371552],\n",
              "       [ 0.13841533, -0.05297765, -1.00181984,  1.42556613]])"
            ]
          },
          "metadata": {
            "tags": []
          },
          "execution_count": 37
        }
      ]
    },
    {
      "cell_type": "code",
      "metadata": {
        "colab": {
          "base_uri": "https://localhost:8080/",
          "height": 341
        },
        "id": "IgMvNyEkaAb1",
        "outputId": "6603fce7-e352-4131-9e44-550934ec1db0"
      },
      "source": [
        "smlogit = sm.Logit(mm_data_else['team1_win'], mm_data_else[['team1_log5','diff_dist','seed_diff', 'ff_diff']]).fit()\n",
        "smlogit.summary()"
      ],
      "execution_count": null,
      "outputs": [
        {
          "output_type": "stream",
          "text": [
            "Optimization terminated successfully.\n",
            "         Current function value: 0.275329\n",
            "         Iterations 7\n"
          ],
          "name": "stdout"
        },
        {
          "output_type": "execute_result",
          "data": {
            "text/html": [
              "<table class=\"simpletable\">\n",
              "<caption>Logit Regression Results</caption>\n",
              "<tr>\n",
              "  <th>Dep. Variable:</th>       <td>team1_win</td>    <th>  No. Observations:  </th>   <td>  1100</td>  \n",
              "</tr>\n",
              "<tr>\n",
              "  <th>Model:</th>                 <td>Logit</td>      <th>  Df Residuals:      </th>   <td>  1096</td>  \n",
              "</tr>\n",
              "<tr>\n",
              "  <th>Method:</th>                 <td>MLE</td>       <th>  Df Model:          </th>   <td>     3</td>  \n",
              "</tr>\n",
              "<tr>\n",
              "  <th>Date:</th>            <td>Fri, 02 Apr 2021</td> <th>  Pseudo R-squ.:     </th>   <td>0.6028</td>  \n",
              "</tr>\n",
              "<tr>\n",
              "  <th>Time:</th>                <td>18:48:50</td>     <th>  Log-Likelihood:    </th>  <td> -302.86</td> \n",
              "</tr>\n",
              "<tr>\n",
              "  <th>converged:</th>             <td>True</td>       <th>  LL-Null:           </th>  <td> -762.46</td> \n",
              "</tr>\n",
              "<tr>\n",
              "  <th>Covariance Type:</th>     <td>nonrobust</td>    <th>  LLR p-value:       </th> <td>6.071e-199</td>\n",
              "</tr>\n",
              "</table>\n",
              "<table class=\"simpletable\">\n",
              "<tr>\n",
              "       <td></td>         <th>coef</th>     <th>std err</th>      <th>z</th>      <th>P>|z|</th>  <th>[0.025</th>    <th>0.975]</th>  \n",
              "</tr>\n",
              "<tr>\n",
              "  <th>team1_log5</th> <td>   -0.3401</td> <td>    0.174</td> <td>   -1.950</td> <td> 0.051</td> <td>   -0.682</td> <td>    0.002</td>\n",
              "</tr>\n",
              "<tr>\n",
              "  <th>diff_dist</th>  <td> -4.71e-05</td> <td> 9.45e-05</td> <td>   -0.498</td> <td> 0.618</td> <td>   -0.000</td> <td>    0.000</td>\n",
              "</tr>\n",
              "<tr>\n",
              "  <th>seed_diff</th>  <td>   -2.5587</td> <td>    0.133</td> <td>  -19.216</td> <td> 0.000</td> <td>   -2.820</td> <td>   -2.298</td>\n",
              "</tr>\n",
              "<tr>\n",
              "  <th>ff_diff</th>    <td>   -0.3098</td> <td>    0.181</td> <td>   -1.709</td> <td> 0.087</td> <td>   -0.665</td> <td>    0.046</td>\n",
              "</tr>\n",
              "</table>"
            ],
            "text/plain": [
              "<class 'statsmodels.iolib.summary.Summary'>\n",
              "\"\"\"\n",
              "                           Logit Regression Results                           \n",
              "==============================================================================\n",
              "Dep. Variable:              team1_win   No. Observations:                 1100\n",
              "Model:                          Logit   Df Residuals:                     1096\n",
              "Method:                           MLE   Df Model:                            3\n",
              "Date:                Fri, 02 Apr 2021   Pseudo R-squ.:                  0.6028\n",
              "Time:                        18:48:50   Log-Likelihood:                -302.86\n",
              "converged:                       True   LL-Null:                       -762.46\n",
              "Covariance Type:            nonrobust   LLR p-value:                6.071e-199\n",
              "==============================================================================\n",
              "                 coef    std err          z      P>|z|      [0.025      0.975]\n",
              "------------------------------------------------------------------------------\n",
              "team1_log5    -0.3401      0.174     -1.950      0.051      -0.682       0.002\n",
              "diff_dist   -4.71e-05   9.45e-05     -0.498      0.618      -0.000       0.000\n",
              "seed_diff     -2.5587      0.133    -19.216      0.000      -2.820      -2.298\n",
              "ff_diff       -0.3098      0.181     -1.709      0.087      -0.665       0.046\n",
              "==============================================================================\n",
              "\"\"\""
            ]
          },
          "metadata": {
            "tags": []
          },
          "execution_count": 38
        }
      ]
    },
    {
      "cell_type": "code",
      "metadata": {
        "id": "GI1ug_BVaAdS"
      },
      "source": [
        "mm_data_2019['prob'] = logit.predict_proba(scaler.fit_transform(mm_data_2019[['team1_log5','diff_dist','seed_diff','ff_diff']]))[:,1]\n",
        "mm_data_2019['prediction'] = logit.predict(scaler.fit_transform(mm_data_2019[['team1_log5','diff_dist','seed_diff','ff_diff']]))"
      ],
      "execution_count": null,
      "outputs": []
    },
    {
      "cell_type": "code",
      "metadata": {
        "colab": {
          "base_uri": "https://localhost:8080/"
        },
        "id": "1wGkqwaFanRA",
        "outputId": "faa45dfe-3414-4a16-86a4-e84fcd16efbe"
      },
      "source": [
        "accuracy_score(mm_data_2019['team1_win'], mm_data_2019['prediction'],)"
      ],
      "execution_count": null,
      "outputs": [
        {
          "output_type": "execute_result",
          "data": {
            "text/plain": [
              "0.9402985074626866"
            ]
          },
          "metadata": {
            "tags": []
          },
          "execution_count": 40
        }
      ]
    },
    {
      "cell_type": "code",
      "metadata": {
        "colab": {
          "base_uri": "https://localhost:8080/"
        },
        "id": "CKIziaGZanTY",
        "outputId": "4117fd8f-1fe5-49d3-ef23-04fc5b4a2460"
      },
      "source": [
        "precision_score(mm_data_2019['team1_win'], mm_data_2019['prediction'])"
      ],
      "execution_count": null,
      "outputs": [
        {
          "output_type": "execute_result",
          "data": {
            "text/plain": [
              "0.9142857142857143"
            ]
          },
          "metadata": {
            "tags": []
          },
          "execution_count": 41
        }
      ]
    },
    {
      "cell_type": "code",
      "metadata": {
        "colab": {
          "base_uri": "https://localhost:8080/"
        },
        "id": "gYm3yeiRanV8",
        "outputId": "d0057b02-6428-4c17-ce24-5c902f4e7479"
      },
      "source": [
        "recall_score(mm_data_2019['team1_win'], mm_data_2019['prediction'])"
      ],
      "execution_count": null,
      "outputs": [
        {
          "output_type": "execute_result",
          "data": {
            "text/plain": [
              "0.9696969696969697"
            ]
          },
          "metadata": {
            "tags": []
          },
          "execution_count": 42
        }
      ]
    },
    {
      "cell_type": "code",
      "metadata": {
        "colab": {
          "base_uri": "https://localhost:8080/"
        },
        "id": "GpnQPfcIanZU",
        "outputId": "ff1afb1a-75d8-4163-d2f3-cfb88070fe2c"
      },
      "source": [
        "f1_score(mm_data_2019['team1_win'], mm_data_2019['prediction'])"
      ],
      "execution_count": null,
      "outputs": [
        {
          "output_type": "execute_result",
          "data": {
            "text/plain": [
              "0.9411764705882354"
            ]
          },
          "metadata": {
            "tags": []
          },
          "execution_count": 43
        }
      ]
    },
    {
      "cell_type": "code",
      "metadata": {
        "colab": {
          "base_uri": "https://localhost:8080/"
        },
        "id": "utYmJLpRana2",
        "outputId": "15ced673-1aff-42a1-8df4-466ec6f75d80"
      },
      "source": [
        "log_loss(mm_data_2019['team1_win'].values, mm_data_2019['prob'].values)"
      ],
      "execution_count": null,
      "outputs": [
        {
          "output_type": "execute_result",
          "data": {
            "text/plain": [
              "0.21744757654707594"
            ]
          },
          "metadata": {
            "tags": []
          },
          "execution_count": 44
        }
      ]
    },
    {
      "cell_type": "code",
      "metadata": {
        "colab": {
          "base_uri": "https://localhost:8080/"
        },
        "id": "1RZPID1ganfK",
        "outputId": "1bb04f55-0e86-4b23-c76f-97547fdf8d1a"
      },
      "source": [
        "roc_auc_score(mm_data_2019['team1_win'].values, mm_data_2019['prob'].values)"
      ],
      "execution_count": null,
      "outputs": [
        {
          "output_type": "execute_result",
          "data": {
            "text/plain": [
              "0.9554367201426025"
            ]
          },
          "metadata": {
            "tags": []
          },
          "execution_count": 45
        }
      ]
    },
    {
      "cell_type": "code",
      "metadata": {
        "id": "lz5kpQAQcpGE"
      },
      "source": [
        "def plot_roc(fpr, tpr, roc_auc):\n",
        "    \"\"\"Plots the ROC curve for the win probability model along with\n",
        "    the AUC.\n",
        "    \"\"\"\n",
        "    fig, ax = plt.subplots()\n",
        "    ax.set(title='Receiver Operating Characteristic',\n",
        "           xlim=[0, 1], ylim=[0, 1], xlabel='False Positive Rate',\n",
        "           ylabel='True Positive Rate')\n",
        "    ax.plot(fpr, tpr, 'b', label='AUC = %0.2f' % roc_auc)\n",
        "    ax.plot([0, 1], [0, 1], 'k--')\n",
        "    ax.legend(loc='lower right')"
      ],
      "execution_count": null,
      "outputs": []
    },
    {
      "cell_type": "code",
      "metadata": {
        "colab": {
          "base_uri": "https://localhost:8080/",
          "height": 299
        },
        "id": "3wMQcso1anc8",
        "outputId": "d649cf27-9464-443c-b20d-e567075f2a8c"
      },
      "source": [
        "\n",
        "fpr, tpr, thresholds = roc_curve(mm_data_2019['team1_win'].values, mm_data_2019['prob'].values)\n",
        "roc_auc = auc(fpr, tpr)\n",
        "plot_roc(fpr, tpr, roc_auc)"
      ],
      "execution_count": null,
      "outputs": [
        {
          "output_type": "display_data",
          "data": {
            "image/png": "[encoded data removed]",
            "text/plain": [
              "<Figure size 432x288 with 1 Axes>"
            ]
          },
          "metadata": {
            "tags": []
          }
        }
      ]
    },
    {
      "cell_type": "code",
      "metadata": {
        "id": "k62TH_qY7m27",
        "colab": {
          "base_uri": "https://localhost:8080/",
          "height": 419
        },
        "outputId": "ddc32db1-73bb-466e-99d4-b18e01287ca7"
      },
      "source": [
        "# submission candidate 1\n",
        "mm_data_2019[['game_id','prob','team1_win']]"
      ],
      "execution_count": null,
      "outputs": [
        {
          "output_type": "execute_result",
          "data": {
            "text/html": [
              "<div>\n",
              "<style scoped>\n",
              "    .dataframe tbody tr th:only-of-type {\n",
              "        vertical-align: middle;\n",
              "    }\n",
              "\n",
              "    .dataframe tbody tr th {\n",
              "        vertical-align: top;\n",
              "    }\n",
              "\n",
              "    .dataframe thead th {\n",
              "        text-align: right;\n",
              "    }\n",
              "</style>\n",
              "<table border=\"1\" class=\"dataframe\">\n",
              "  <thead>\n",
              "    <tr style=\"text-align: right;\">\n",
              "      <th></th>\n",
              "      <th>game_id</th>\n",
              "      <th>prob</th>\n",
              "      <th>team1_win</th>\n",
              "    </tr>\n",
              "  </thead>\n",
              "  <tbody>\n",
              "    <tr>\n",
              "      <th>0</th>\n",
              "      <td>2019-1192.0-1341.0</td>\n",
              "      <td>0.077301</td>\n",
              "      <td>0</td>\n",
              "    </tr>\n",
              "    <tr>\n",
              "      <th>1</th>\n",
              "      <td>2019-1125.0-1396.0</td>\n",
              "      <td>0.059228</td>\n",
              "      <td>0</td>\n",
              "    </tr>\n",
              "    <tr>\n",
              "      <th>2</th>\n",
              "      <td>2019-1261.0-1463.0</td>\n",
              "      <td>0.029415</td>\n",
              "      <td>0</td>\n",
              "    </tr>\n",
              "    <tr>\n",
              "      <th>3</th>\n",
              "      <td>2019-1196.0-1305.0</td>\n",
              "      <td>0.114556</td>\n",
              "      <td>0</td>\n",
              "    </tr>\n",
              "    <tr>\n",
              "      <th>4</th>\n",
              "      <td>2019-1276.0-1285.0</td>\n",
              "      <td>0.012396</td>\n",
              "      <td>0</td>\n",
              "    </tr>\n",
              "    <tr>\n",
              "      <th>...</th>\n",
              "      <td>...</td>\n",
              "      <td>...</td>\n",
              "      <td>...</td>\n",
              "    </tr>\n",
              "    <tr>\n",
              "      <th>62</th>\n",
              "      <td>2019-1246.0-1222.0</td>\n",
              "      <td>0.955809</td>\n",
              "      <td>1</td>\n",
              "    </tr>\n",
              "    <tr>\n",
              "      <th>63</th>\n",
              "      <td>2019-1438.0-1345.0</td>\n",
              "      <td>0.909494</td>\n",
              "      <td>1</td>\n",
              "    </tr>\n",
              "    <tr>\n",
              "      <th>64</th>\n",
              "      <td>2019-1120.0-1246.0</td>\n",
              "      <td>0.986459</td>\n",
              "      <td>1</td>\n",
              "    </tr>\n",
              "    <tr>\n",
              "      <th>65</th>\n",
              "      <td>2019-1438.0-1120.0</td>\n",
              "      <td>0.889497</td>\n",
              "      <td>1</td>\n",
              "    </tr>\n",
              "    <tr>\n",
              "      <th>66</th>\n",
              "      <td>2019-1438.0-1403.0</td>\n",
              "      <td>0.934998</td>\n",
              "      <td>1</td>\n",
              "    </tr>\n",
              "  </tbody>\n",
              "</table>\n",
              "<p>67 rows × 3 columns</p>\n",
              "</div>"
            ],
            "text/plain": [
              "               game_id      prob  team1_win\n",
              "0   2019-1192.0-1341.0  0.077301          0\n",
              "1   2019-1125.0-1396.0  0.059228          0\n",
              "2   2019-1261.0-1463.0  0.029415          0\n",
              "3   2019-1196.0-1305.0  0.114556          0\n",
              "4   2019-1276.0-1285.0  0.012396          0\n",
              "..                 ...       ...        ...\n",
              "62  2019-1246.0-1222.0  0.955809          1\n",
              "63  2019-1438.0-1345.0  0.909494          1\n",
              "64  2019-1120.0-1246.0  0.986459          1\n",
              "65  2019-1438.0-1120.0  0.889497          1\n",
              "66  2019-1438.0-1403.0  0.934998          1\n",
              "\n",
              "[67 rows x 3 columns]"
            ]
          },
          "metadata": {
            "tags": []
          },
          "execution_count": 48
        }
      ]
    },
    {
      "cell_type": "code",
      "metadata": {
        "id": "TBX7GS7iFiKX"
      },
      "source": [
        "mm_data_2019[['game_id','prob']].to_csv(\"Let's Trade Stocks.csv\")\n",
        "from google.colab import files\n",
        "#files.download(\"Let's Trade Stocks.csv\")"
      ],
      "execution_count": null,
      "outputs": []
    },
    {
      "cell_type": "code",
      "metadata": {
        "id": "eQYYS7o_HTo4"
      },
      "source": [
        ""
      ],
      "execution_count": null,
      "outputs": []
    }
  ]
}