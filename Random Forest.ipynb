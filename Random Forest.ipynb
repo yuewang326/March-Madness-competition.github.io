{
 "cells": [
  {
   "cell_type": "code",
   "execution_count": 1,
   "metadata": {
    "id": "dCQ3KBd4v4Uf"
   },
   "outputs": [],
   "source": [
    "import pandas as pd"
   ]
  },
  {
   "cell_type": "code",
   "execution_count": null,
   "metadata": {
    "colab": {
     "base_uri": "https://localhost:8080/"
    },
    "id": "_nbKj11eqvik",
    "outputId": "4533b4af-b17d-4814-f9cb-a46b4ddf3e97"
   },
   "outputs": [],
   "source": []
  },
  {
   "cell_type": "code",
   "execution_count": 2,
   "metadata": {
    "id": "a68TXZkWqysl"
   },
   "outputs": [],
   "source": [
    "df = pd.read_csv(\"NCAA_Tourney_2002_2019_update.csv\")"
   ]
  },
  {
   "cell_type": "code",
   "execution_count": 3,
   "metadata": {
    "colab": {
     "base_uri": "https://localhost:8080/",
     "height": 412
    },
    "id": "59pHR_6i-J2w",
    "outputId": "479e5663-35bb-4042-fa69-e265f18bbe98"
   },
   "outputs": [
    {
     "data": {
      "text/html": [
       "<div>\n",
       "<style scoped>\n",
       "    .dataframe tbody tr th:only-of-type {\n",
       "        vertical-align: middle;\n",
       "    }\n",
       "\n",
       "    .dataframe tbody tr th {\n",
       "        vertical-align: top;\n",
       "    }\n",
       "\n",
       "    .dataframe thead th {\n",
       "        text-align: right;\n",
       "    }\n",
       "</style>\n",
       "<table border=\"1\" class=\"dataframe\">\n",
       "  <thead>\n",
       "    <tr style=\"text-align: right;\">\n",
       "      <th></th>\n",
       "      <th>team1_id</th>\n",
       "      <th>team1_score</th>\n",
       "      <th>team2_id</th>\n",
       "      <th>team2_score</th>\n",
       "      <th>WLoc</th>\n",
       "      <th>num_ot</th>\n",
       "      <th>team1_position</th>\n",
       "      <th>team2_position</th>\n",
       "      <th>team1_seed</th>\n",
       "      <th>team2_seed</th>\n",
       "      <th>...</th>\n",
       "      <th>team1_adjoe</th>\n",
       "      <th>team1_de</th>\n",
       "      <th>team1_adjde</th>\n",
       "      <th>team2_tempo</th>\n",
       "      <th>team2_adjtempo</th>\n",
       "      <th>team2_oe</th>\n",
       "      <th>team2_adjoe</th>\n",
       "      <th>team2_de</th>\n",
       "      <th>team2_adjde</th>\n",
       "      <th>game_id</th>\n",
       "    </tr>\n",
       "  </thead>\n",
       "  <tbody>\n",
       "    <tr>\n",
       "      <td>0</td>\n",
       "      <td>1192.0</td>\n",
       "      <td>82</td>\n",
       "      <td>1341.0</td>\n",
       "      <td>76</td>\n",
       "      <td>N</td>\n",
       "      <td>0</td>\n",
       "      <td>X16a</td>\n",
       "      <td>X16b</td>\n",
       "      <td>16</td>\n",
       "      <td>16</td>\n",
       "      <td>...</td>\n",
       "      <td>106.296</td>\n",
       "      <td>104.7090</td>\n",
       "      <td>110.5500</td>\n",
       "      <td>72.5879</td>\n",
       "      <td>71.0282</td>\n",
       "      <td>103.120</td>\n",
       "      <td>101.6550</td>\n",
       "      <td>99.7542</td>\n",
       "      <td>105.9590</td>\n",
       "      <td>2019-1192.0-1341.0</td>\n",
       "    </tr>\n",
       "    <tr>\n",
       "      <td>1</td>\n",
       "      <td>1125.0</td>\n",
       "      <td>81</td>\n",
       "      <td>1396.0</td>\n",
       "      <td>70</td>\n",
       "      <td>N</td>\n",
       "      <td>0</td>\n",
       "      <td>W11a</td>\n",
       "      <td>W11b</td>\n",
       "      <td>11</td>\n",
       "      <td>11</td>\n",
       "      <td>...</td>\n",
       "      <td>114.952</td>\n",
       "      <td>99.6691</td>\n",
       "      <td>101.8860</td>\n",
       "      <td>70.1158</td>\n",
       "      <td>68.8256</td>\n",
       "      <td>105.306</td>\n",
       "      <td>108.9910</td>\n",
       "      <td>100.1860</td>\n",
       "      <td>99.5630</td>\n",
       "      <td>2019-1125.0-1396.0</td>\n",
       "    </tr>\n",
       "    <tr>\n",
       "      <td>2</td>\n",
       "      <td>1295.0</td>\n",
       "      <td>78</td>\n",
       "      <td>1300.0</td>\n",
       "      <td>74</td>\n",
       "      <td>N</td>\n",
       "      <td>0</td>\n",
       "      <td>W16a</td>\n",
       "      <td>W16b</td>\n",
       "      <td>16</td>\n",
       "      <td>16</td>\n",
       "      <td>...</td>\n",
       "      <td>106.675</td>\n",
       "      <td>110.0540</td>\n",
       "      <td>109.8730</td>\n",
       "      <td>67.1363</td>\n",
       "      <td>65.2686</td>\n",
       "      <td>100.502</td>\n",
       "      <td>96.7551</td>\n",
       "      <td>100.7490</td>\n",
       "      <td>108.6610</td>\n",
       "      <td>2019-1295.0-1300.0</td>\n",
       "    </tr>\n",
       "    <tr>\n",
       "      <td>3</td>\n",
       "      <td>1113.0</td>\n",
       "      <td>74</td>\n",
       "      <td>1385.0</td>\n",
       "      <td>65</td>\n",
       "      <td>N</td>\n",
       "      <td>0</td>\n",
       "      <td>X11a</td>\n",
       "      <td>X11b</td>\n",
       "      <td>11</td>\n",
       "      <td>11</td>\n",
       "      <td>...</td>\n",
       "      <td>109.886</td>\n",
       "      <td>99.8027</td>\n",
       "      <td>98.6844</td>\n",
       "      <td>72.3507</td>\n",
       "      <td>70.5516</td>\n",
       "      <td>105.988</td>\n",
       "      <td>109.7820</td>\n",
       "      <td>102.5140</td>\n",
       "      <td>101.0440</td>\n",
       "      <td>2019-1113.0-1385.0</td>\n",
       "    </tr>\n",
       "    <tr>\n",
       "      <td>4</td>\n",
       "      <td>1278.0</td>\n",
       "      <td>86</td>\n",
       "      <td>1257.0</td>\n",
       "      <td>76</td>\n",
       "      <td>N</td>\n",
       "      <td>0</td>\n",
       "      <td>W10</td>\n",
       "      <td>W07</td>\n",
       "      <td>10</td>\n",
       "      <td>7</td>\n",
       "      <td>...</td>\n",
       "      <td>110.803</td>\n",
       "      <td>101.4670</td>\n",
       "      <td>96.3335</td>\n",
       "      <td>68.4904</td>\n",
       "      <td>67.1950</td>\n",
       "      <td>107.243</td>\n",
       "      <td>113.5030</td>\n",
       "      <td>97.6744</td>\n",
       "      <td>92.4983</td>\n",
       "      <td>2019-1278.0-1257.0</td>\n",
       "    </tr>\n",
       "  </tbody>\n",
       "</table>\n",
       "<p>5 rows × 104 columns</p>\n",
       "</div>"
      ],
      "text/plain": [
       "   team1_id  team1_score  team2_id  team2_score WLoc  num_ot team1_position  \\\n",
       "0    1192.0           82    1341.0           76    N       0           X16a   \n",
       "1    1125.0           81    1396.0           70    N       0           W11a   \n",
       "2    1295.0           78    1300.0           74    N       0           W16a   \n",
       "3    1113.0           74    1385.0           65    N       0           X11a   \n",
       "4    1278.0           86    1257.0           76    N       0            W10   \n",
       "\n",
       "  team2_position  team1_seed  team2_seed  ...  team1_adjoe  team1_de  \\\n",
       "0           X16b          16          16  ...      106.296  104.7090   \n",
       "1           W11b          11          11  ...      114.952   99.6691   \n",
       "2           W16b          16          16  ...      106.675  110.0540   \n",
       "3           X11b          11          11  ...      109.886   99.8027   \n",
       "4            W07          10           7  ...      110.803  101.4670   \n",
       "\n",
       "  team1_adjde team2_tempo team2_adjtempo team2_oe team2_adjoe  team2_de  \\\n",
       "0    110.5500     72.5879        71.0282  103.120    101.6550   99.7542   \n",
       "1    101.8860     70.1158        68.8256  105.306    108.9910  100.1860   \n",
       "2    109.8730     67.1363        65.2686  100.502     96.7551  100.7490   \n",
       "3     98.6844     72.3507        70.5516  105.988    109.7820  102.5140   \n",
       "4     96.3335     68.4904        67.1950  107.243    113.5030   97.6744   \n",
       "\n",
       "  team2_adjde             game_id  \n",
       "0    105.9590  2019-1192.0-1341.0  \n",
       "1     99.5630  2019-1125.0-1396.0  \n",
       "2    108.6610  2019-1295.0-1300.0  \n",
       "3    101.0440  2019-1113.0-1385.0  \n",
       "4     92.4983  2019-1278.0-1257.0  \n",
       "\n",
       "[5 rows x 104 columns]"
      ]
     },
     "execution_count": 3,
     "metadata": {},
     "output_type": "execute_result"
    }
   ],
   "source": [
    "df.head(5)"
   ]
  },
  {
   "cell_type": "code",
   "execution_count": 4,
   "metadata": {
    "id": "gTfse94Tv_-v"
   },
   "outputs": [],
   "source": [
    "#from google.colab import files\n",
    "#uploaded = files.upload()"
   ]
  },
  {
   "cell_type": "code",
   "execution_count": 5,
   "metadata": {
    "id": "esFHHqzRwDjO"
   },
   "outputs": [],
   "source": [
    "#df = pd.read_csv(\"NCAA_Tourney_2002_2019_update.csv\")"
   ]
  },
  {
   "cell_type": "code",
   "execution_count": 6,
   "metadata": {
    "colab": {
     "base_uri": "https://localhost:8080/",
     "height": 286
    },
    "id": "9Fjs90qSwbUa",
    "outputId": "9abc7933-d887-43b4-f49a-4323f3aaca35"
   },
   "outputs": [
    {
     "data": {
      "text/html": [
       "<div>\n",
       "<style scoped>\n",
       "    .dataframe tbody tr th:only-of-type {\n",
       "        vertical-align: middle;\n",
       "    }\n",
       "\n",
       "    .dataframe tbody tr th {\n",
       "        vertical-align: top;\n",
       "    }\n",
       "\n",
       "    .dataframe thead th {\n",
       "        text-align: right;\n",
       "    }\n",
       "</style>\n",
       "<table border=\"1\" class=\"dataframe\">\n",
       "  <thead>\n",
       "    <tr style=\"text-align: right;\">\n",
       "      <th></th>\n",
       "      <th>team1_id</th>\n",
       "      <th>team1_score</th>\n",
       "      <th>team2_id</th>\n",
       "      <th>team2_score</th>\n",
       "      <th>WLoc</th>\n",
       "      <th>num_ot</th>\n",
       "      <th>team1_position</th>\n",
       "      <th>team2_position</th>\n",
       "      <th>team1_seed</th>\n",
       "      <th>team2_seed</th>\n",
       "      <th>...</th>\n",
       "      <th>team1_adjoe</th>\n",
       "      <th>team1_de</th>\n",
       "      <th>team1_adjde</th>\n",
       "      <th>team2_tempo</th>\n",
       "      <th>team2_adjtempo</th>\n",
       "      <th>team2_oe</th>\n",
       "      <th>team2_adjoe</th>\n",
       "      <th>team2_de</th>\n",
       "      <th>team2_adjde</th>\n",
       "      <th>game_id</th>\n",
       "    </tr>\n",
       "  </thead>\n",
       "  <tbody>\n",
       "    <tr>\n",
       "      <td>0</td>\n",
       "      <td>1192.0</td>\n",
       "      <td>82</td>\n",
       "      <td>1341.0</td>\n",
       "      <td>76</td>\n",
       "      <td>N</td>\n",
       "      <td>0</td>\n",
       "      <td>X16a</td>\n",
       "      <td>X16b</td>\n",
       "      <td>16</td>\n",
       "      <td>16</td>\n",
       "      <td>...</td>\n",
       "      <td>106.296</td>\n",
       "      <td>104.7090</td>\n",
       "      <td>110.550</td>\n",
       "      <td>72.5879</td>\n",
       "      <td>71.0282</td>\n",
       "      <td>103.120</td>\n",
       "      <td>101.6550</td>\n",
       "      <td>99.7542</td>\n",
       "      <td>105.959</td>\n",
       "      <td>2019-1192.0-1341.0</td>\n",
       "    </tr>\n",
       "    <tr>\n",
       "      <td>1</td>\n",
       "      <td>1125.0</td>\n",
       "      <td>81</td>\n",
       "      <td>1396.0</td>\n",
       "      <td>70</td>\n",
       "      <td>N</td>\n",
       "      <td>0</td>\n",
       "      <td>W11a</td>\n",
       "      <td>W11b</td>\n",
       "      <td>11</td>\n",
       "      <td>11</td>\n",
       "      <td>...</td>\n",
       "      <td>114.952</td>\n",
       "      <td>99.6691</td>\n",
       "      <td>101.886</td>\n",
       "      <td>70.1158</td>\n",
       "      <td>68.8256</td>\n",
       "      <td>105.306</td>\n",
       "      <td>108.9910</td>\n",
       "      <td>100.1860</td>\n",
       "      <td>99.563</td>\n",
       "      <td>2019-1125.0-1396.0</td>\n",
       "    </tr>\n",
       "    <tr>\n",
       "      <td>2</td>\n",
       "      <td>1295.0</td>\n",
       "      <td>78</td>\n",
       "      <td>1300.0</td>\n",
       "      <td>74</td>\n",
       "      <td>N</td>\n",
       "      <td>0</td>\n",
       "      <td>W16a</td>\n",
       "      <td>W16b</td>\n",
       "      <td>16</td>\n",
       "      <td>16</td>\n",
       "      <td>...</td>\n",
       "      <td>106.675</td>\n",
       "      <td>110.0540</td>\n",
       "      <td>109.873</td>\n",
       "      <td>67.1363</td>\n",
       "      <td>65.2686</td>\n",
       "      <td>100.502</td>\n",
       "      <td>96.7551</td>\n",
       "      <td>100.7490</td>\n",
       "      <td>108.661</td>\n",
       "      <td>2019-1295.0-1300.0</td>\n",
       "    </tr>\n",
       "  </tbody>\n",
       "</table>\n",
       "<p>3 rows × 104 columns</p>\n",
       "</div>"
      ],
      "text/plain": [
       "   team1_id  team1_score  team2_id  team2_score WLoc  num_ot team1_position  \\\n",
       "0    1192.0           82    1341.0           76    N       0           X16a   \n",
       "1    1125.0           81    1396.0           70    N       0           W11a   \n",
       "2    1295.0           78    1300.0           74    N       0           W16a   \n",
       "\n",
       "  team2_position  team1_seed  team2_seed  ...  team1_adjoe  team1_de  \\\n",
       "0           X16b          16          16  ...      106.296  104.7090   \n",
       "1           W11b          11          11  ...      114.952   99.6691   \n",
       "2           W16b          16          16  ...      106.675  110.0540   \n",
       "\n",
       "  team1_adjde team2_tempo team2_adjtempo team2_oe team2_adjoe  team2_de  \\\n",
       "0     110.550     72.5879        71.0282  103.120    101.6550   99.7542   \n",
       "1     101.886     70.1158        68.8256  105.306    108.9910  100.1860   \n",
       "2     109.873     67.1363        65.2686  100.502     96.7551  100.7490   \n",
       "\n",
       "  team2_adjde             game_id  \n",
       "0     105.959  2019-1192.0-1341.0  \n",
       "1      99.563  2019-1125.0-1396.0  \n",
       "2     108.661  2019-1295.0-1300.0  \n",
       "\n",
       "[3 rows x 104 columns]"
      ]
     },
     "execution_count": 6,
     "metadata": {},
     "output_type": "execute_result"
    }
   ],
   "source": [
    "df.head(3)"
   ]
  },
  {
   "cell_type": "code",
   "execution_count": 7,
   "metadata": {
    "colab": {
     "base_uri": "https://localhost:8080/"
    },
    "id": "xCL7BEMcwcZ7",
    "outputId": "1163da1d-d17a-4ff3-dd1b-5fc7ea88eaeb"
   },
   "outputs": [],
   "source": [
    "%matplotlib inline\n",
    "import matplotlib.pyplot as plt\n",
    "plt.style.use('ggplot')\n",
    "\n",
    "from math import sin, cos, sqrt, atan2, radians\n",
    "import numpy as np\n",
    "import pandas as pd\n",
    "import random\n",
    "from sklearn.linear_model import LogisticRegression\n",
    "from sklearn.metrics import (auc, classification_report, roc_auc_score, accuracy_score,\n",
    "                             f1_score, log_loss, roc_curve, confusion_matrix, precision_score, recall_score)\n",
    "from sklearn.preprocessing import StandardScaler\n",
    "import statsmodels.api as sm"
   ]
  },
  {
   "cell_type": "code",
   "execution_count": 8,
   "metadata": {
    "colab": {
     "base_uri": "https://localhost:8080/"
    },
    "id": "9H3JOq0_2RqS",
    "outputId": "5aad7c41-66b8-4543-b662-d607d64149fa"
   },
   "outputs": [
    {
     "name": "stderr",
     "output_type": "stream",
     "text": [
      "/Users/wangyue/opt/anaconda3/lib/python3.7/site-packages/ipykernel_launcher.py:2: SettingWithCopyWarning: \n",
      "A value is trying to be set on a copy of a slice from a DataFrame.\n",
      "Try using .loc[row_indexer,col_indexer] = value instead\n",
      "\n",
      "See the caveats in the documentation: http://pandas.pydata.org/pandas-docs/stable/user_guide/indexing.html#returning-a-view-versus-a-copy\n",
      "  \n",
      "/Users/wangyue/opt/anaconda3/lib/python3.7/site-packages/ipykernel_launcher.py:3: SettingWithCopyWarning: \n",
      "A value is trying to be set on a copy of a slice from a DataFrame.\n",
      "Try using .loc[row_indexer,col_indexer] = value instead\n",
      "\n",
      "See the caveats in the documentation: http://pandas.pydata.org/pandas-docs/stable/user_guide/indexing.html#returning-a-view-versus-a-copy\n",
      "  This is separate from the ipykernel package so we can avoid doing imports until\n"
     ]
    }
   ],
   "source": [
    "df_cut = df[[ \"team1_teamname\", \"team1_score\", \"team2_teamname\",\"team2_score\"]]\n",
    "df_cut[\"team1_spead\"] = df_cut[\"team1_score\"] - df_cut[\"team2_score\"]\n",
    "df_cut[\"team2_spead\"] = -df_cut[\"team1_spead\"]"
   ]
  },
  {
   "cell_type": "code",
   "execution_count": 9,
   "metadata": {
    "colab": {
     "base_uri": "https://localhost:8080/",
     "height": 195
    },
    "id": "PUHJFLp_2Rzm",
    "outputId": "db640108-112e-499d-ac3f-cd6b3fc0a566"
   },
   "outputs": [
    {
     "data": {
      "text/html": [
       "<div>\n",
       "<style scoped>\n",
       "    .dataframe tbody tr th:only-of-type {\n",
       "        vertical-align: middle;\n",
       "    }\n",
       "\n",
       "    .dataframe tbody tr th {\n",
       "        vertical-align: top;\n",
       "    }\n",
       "\n",
       "    .dataframe thead th {\n",
       "        text-align: right;\n",
       "    }\n",
       "</style>\n",
       "<table border=\"1\" class=\"dataframe\">\n",
       "  <thead>\n",
       "    <tr style=\"text-align: right;\">\n",
       "      <th></th>\n",
       "      <th>team1_teamname</th>\n",
       "      <th>team1_score</th>\n",
       "      <th>team2_teamname</th>\n",
       "      <th>team2_score</th>\n",
       "      <th>team1_spead</th>\n",
       "      <th>team2_spead</th>\n",
       "    </tr>\n",
       "  </thead>\n",
       "  <tbody>\n",
       "    <tr>\n",
       "      <td>1162</td>\n",
       "      <td>Loyola-Chicago</td>\n",
       "      <td>78</td>\n",
       "      <td>Kansas St</td>\n",
       "      <td>62</td>\n",
       "      <td>16</td>\n",
       "      <td>-16</td>\n",
       "    </tr>\n",
       "    <tr>\n",
       "      <td>1163</td>\n",
       "      <td>Michigan</td>\n",
       "      <td>58</td>\n",
       "      <td>Florida St</td>\n",
       "      <td>54</td>\n",
       "      <td>4</td>\n",
       "      <td>-4</td>\n",
       "    </tr>\n",
       "    <tr>\n",
       "      <td>1164</td>\n",
       "      <td>Villanova</td>\n",
       "      <td>95</td>\n",
       "      <td>Kansas</td>\n",
       "      <td>79</td>\n",
       "      <td>16</td>\n",
       "      <td>-16</td>\n",
       "    </tr>\n",
       "    <tr>\n",
       "      <td>1165</td>\n",
       "      <td>Michigan</td>\n",
       "      <td>69</td>\n",
       "      <td>Loyola-Chicago</td>\n",
       "      <td>57</td>\n",
       "      <td>12</td>\n",
       "      <td>-12</td>\n",
       "    </tr>\n",
       "    <tr>\n",
       "      <td>1166</td>\n",
       "      <td>Villanova</td>\n",
       "      <td>79</td>\n",
       "      <td>Michigan</td>\n",
       "      <td>62</td>\n",
       "      <td>17</td>\n",
       "      <td>-17</td>\n",
       "    </tr>\n",
       "  </tbody>\n",
       "</table>\n",
       "</div>"
      ],
      "text/plain": [
       "      team1_teamname  team1_score  team2_teamname  team2_score  team1_spead  \\\n",
       "1162  Loyola-Chicago           78       Kansas St           62           16   \n",
       "1163        Michigan           58      Florida St           54            4   \n",
       "1164       Villanova           95          Kansas           79           16   \n",
       "1165        Michigan           69  Loyola-Chicago           57           12   \n",
       "1166       Villanova           79        Michigan           62           17   \n",
       "\n",
       "      team2_spead  \n",
       "1162          -16  \n",
       "1163           -4  \n",
       "1164          -16  \n",
       "1165          -12  \n",
       "1166          -17  "
      ]
     },
     "execution_count": 9,
     "metadata": {},
     "output_type": "execute_result"
    }
   ],
   "source": [
    "df_cut.tail()"
   ]
  },
  {
   "cell_type": "code",
   "execution_count": 10,
   "metadata": {
    "colab": {
     "base_uri": "https://localhost:8080/",
     "height": 204
    },
    "id": "mGGlSEJD2R2a",
    "outputId": "9d67272a-eadf-4be6-dcd5-2331e09407d1"
   },
   "outputs": [
    {
     "data": {
      "text/html": [
       "<div>\n",
       "<style scoped>\n",
       "    .dataframe tbody tr th:only-of-type {\n",
       "        vertical-align: middle;\n",
       "    }\n",
       "\n",
       "    .dataframe tbody tr th {\n",
       "        vertical-align: top;\n",
       "    }\n",
       "\n",
       "    .dataframe thead th {\n",
       "        text-align: right;\n",
       "    }\n",
       "</style>\n",
       "<table border=\"1\" class=\"dataframe\">\n",
       "  <thead>\n",
       "    <tr style=\"text-align: right;\">\n",
       "      <th></th>\n",
       "      <th>team</th>\n",
       "      <th>spread</th>\n",
       "      <th>opponent</th>\n",
       "    </tr>\n",
       "  </thead>\n",
       "  <tbody>\n",
       "    <tr>\n",
       "      <td>1162</td>\n",
       "      <td>Kansas St</td>\n",
       "      <td>-16</td>\n",
       "      <td>Loyola-Chicago</td>\n",
       "    </tr>\n",
       "    <tr>\n",
       "      <td>1163</td>\n",
       "      <td>Florida St</td>\n",
       "      <td>-4</td>\n",
       "      <td>Michigan</td>\n",
       "    </tr>\n",
       "    <tr>\n",
       "      <td>1164</td>\n",
       "      <td>Kansas</td>\n",
       "      <td>-16</td>\n",
       "      <td>Villanova</td>\n",
       "    </tr>\n",
       "    <tr>\n",
       "      <td>1165</td>\n",
       "      <td>Loyola-Chicago</td>\n",
       "      <td>-12</td>\n",
       "      <td>Michigan</td>\n",
       "    </tr>\n",
       "    <tr>\n",
       "      <td>1166</td>\n",
       "      <td>Michigan</td>\n",
       "      <td>-17</td>\n",
       "      <td>Villanova</td>\n",
       "    </tr>\n",
       "  </tbody>\n",
       "</table>\n",
       "</div>"
      ],
      "text/plain": [
       "                team  spread        opponent\n",
       "1162       Kansas St     -16  Loyola-Chicago\n",
       "1163      Florida St      -4        Michigan\n",
       "1164          Kansas     -16       Villanova\n",
       "1165  Loyola-Chicago     -12        Michigan\n",
       "1166        Michigan     -17       Villanova"
      ]
     },
     "execution_count": 10,
     "metadata": {},
     "output_type": "execute_result"
    }
   ],
   "source": [
    "teams = pd.concat([\n",
    "    df_cut[['team1_teamname', 'team1_spead','team2_teamname']].rename(columns={'team1_teamname': 'team', 'team1_spead': 'spread', 'team2_teamname': 'opponent'}),\n",
    "    df_cut[['team2_teamname', 'team2_spead','team1_teamname']].rename(columns={'team2_teamname': 'team', 'team2_spead': 'spread', 'team1_teamname': 'opponent'})\n",
    "])\n",
    "teams.tail()"
   ]
  },
  {
   "cell_type": "code",
   "execution_count": 11,
   "metadata": {
    "id": "_sZT4ShX2R5g"
   },
   "outputs": [],
   "source": [
    "import numpy as np"
   ]
  },
  {
   "cell_type": "code",
   "execution_count": 12,
   "metadata": {
    "id": "G-piBfOM3xYn"
   },
   "outputs": [],
   "source": [
    "teams['spread'] = np.where(teams['spread'] > 15, 15, teams['spread'])\n",
    "teams['spread'] = np.where(teams['spread'] < -15, -15, teams['spread'])"
   ]
  },
  {
   "cell_type": "code",
   "execution_count": 13,
   "metadata": {
    "colab": {
     "base_uri": "https://localhost:8080/"
    },
    "id": "cZxB324H3xbJ",
    "outputId": "f0114cad-6ae3-48a9-a745-1b2dadec6114"
   },
   "outputs": [
    {
     "data": {
      "text/plain": [
       "team\n",
       "Abilene Chr   -15.000000\n",
       "Air Force     -10.000000\n",
       "Akron         -13.666667\n",
       "Alabama        -3.545455\n",
       "Alabama A&M   -10.000000\n",
       "                 ...    \n",
       "Wofford        -3.500000\n",
       "Wright St     -15.000000\n",
       "Wyoming        -5.333333\n",
       "Xavier          2.486486\n",
       "Yale           -2.666667\n",
       "Name: spread, Length: 252, dtype: float64"
      ]
     },
     "execution_count": 13,
     "metadata": {},
     "output_type": "execute_result"
    }
   ],
   "source": [
    "spreads = teams.groupby('team').spread.mean()\n",
    "spreads"
   ]
  },
  {
   "cell_type": "code",
   "execution_count": 14,
   "metadata": {
    "id": "HbHKDaUU3xdq"
   },
   "outputs": [],
   "source": [
    "terms = []\n",
    "solutions = []\n",
    "\n",
    "for team in spreads.keys():\n",
    "    row = []\n",
    "    # get a list of team opponents\n",
    "    opps = list(teams[teams['team'] == team]['opponent'])\n",
    "    \n",
    "    for opp in spreads.keys():\n",
    "        if opp == team:\n",
    "        \t# coefficient for the team should be 1\n",
    "            row.append(1)\n",
    "        elif opp in opps:\n",
    "        \t# coefficient for opponents should be 1 over the number of opponents\n",
    "            row.append(-1.0/len(opps))\n",
    "        else:\n",
    "        \t# teams not faced get a coefficient of 0\n",
    "            row.append(0)\n",
    "            \n",
    "    terms.append(row)\n",
    "    \n",
    "    # average game spread on the other side of the equation\n",
    "    solutions.append(spreads[team])"
   ]
  },
  {
   "cell_type": "code",
   "execution_count": 15,
   "metadata": {
    "id": "z604SQju3xgz"
   },
   "outputs": [],
   "source": [
    "solutions = np.linalg.solve(np.array(terms), np.array(solutions))"
   ]
  },
  {
   "cell_type": "code",
   "execution_count": 16,
   "metadata": {
    "colab": {
     "base_uri": "https://localhost:8080/",
     "height": 204
    },
    "id": "uv7y-kaV3xi8",
    "outputId": "5dc6b592-473d-4900-cf9f-8555106cdee1"
   },
   "outputs": [
    {
     "data": {
      "text/html": [
       "<div>\n",
       "<style scoped>\n",
       "    .dataframe tbody tr th:only-of-type {\n",
       "        vertical-align: middle;\n",
       "    }\n",
       "\n",
       "    .dataframe tbody tr th {\n",
       "        vertical-align: top;\n",
       "    }\n",
       "\n",
       "    .dataframe thead th {\n",
       "        text-align: right;\n",
       "    }\n",
       "</style>\n",
       "<table border=\"1\" class=\"dataframe\">\n",
       "  <thead>\n",
       "    <tr style=\"text-align: right;\">\n",
       "      <th></th>\n",
       "      <th>team</th>\n",
       "      <th>rating</th>\n",
       "    </tr>\n",
       "  </thead>\n",
       "  <tbody>\n",
       "    <tr>\n",
       "      <td>0</td>\n",
       "      <td>Abilene Chr</td>\n",
       "      <td>-12.178422</td>\n",
       "    </tr>\n",
       "    <tr>\n",
       "      <td>1</td>\n",
       "      <td>Air Force</td>\n",
       "      <td>-7.454327</td>\n",
       "    </tr>\n",
       "    <tr>\n",
       "      <td>2</td>\n",
       "      <td>Akron</td>\n",
       "      <td>-15.207680</td>\n",
       "    </tr>\n",
       "    <tr>\n",
       "      <td>3</td>\n",
       "      <td>Alabama</td>\n",
       "      <td>-6.957334</td>\n",
       "    </tr>\n",
       "    <tr>\n",
       "      <td>4</td>\n",
       "      <td>Alabama A&amp;M</td>\n",
       "      <td>-20.769627</td>\n",
       "    </tr>\n",
       "  </tbody>\n",
       "</table>\n",
       "</div>"
      ],
      "text/plain": [
       "          team     rating\n",
       "0  Abilene Chr -12.178422\n",
       "1    Air Force  -7.454327\n",
       "2        Akron -15.207680\n",
       "3      Alabama  -6.957334\n",
       "4  Alabama A&M -20.769627"
      ]
     },
     "execution_count": 16,
     "metadata": {},
     "output_type": "execute_result"
    }
   ],
   "source": [
    "ratings = list(zip( spreads.keys(), solutions ))\n",
    "srs = pd.DataFrame(ratings, columns=['team', 'rating'])\n",
    "srs.head()"
   ]
  },
  {
   "cell_type": "code",
   "execution_count": 17,
   "metadata": {
    "colab": {
     "base_uri": "https://localhost:8080/",
     "height": 390
    },
    "id": "MaAD6jIi3xlW",
    "outputId": "a17c431f-479b-49ca-b0e1-39efaf1b263e"
   },
   "outputs": [
    {
     "data": {
      "text/html": [
       "<div>\n",
       "<style scoped>\n",
       "    .dataframe tbody tr th:only-of-type {\n",
       "        vertical-align: middle;\n",
       "    }\n",
       "\n",
       "    .dataframe tbody tr th {\n",
       "        vertical-align: top;\n",
       "    }\n",
       "\n",
       "    .dataframe thead th {\n",
       "        text-align: right;\n",
       "    }\n",
       "</style>\n",
       "<table border=\"1\" class=\"dataframe\">\n",
       "  <thead>\n",
       "    <tr style=\"text-align: right;\">\n",
       "      <th></th>\n",
       "      <th>team</th>\n",
       "      <th>rating</th>\n",
       "    </tr>\n",
       "  </thead>\n",
       "  <tbody>\n",
       "    <tr>\n",
       "      <td>0</td>\n",
       "      <td>North Carolina</td>\n",
       "      <td>4.219692</td>\n",
       "    </tr>\n",
       "    <tr>\n",
       "      <td>1</td>\n",
       "      <td>South Carolina</td>\n",
       "      <td>4.094053</td>\n",
       "    </tr>\n",
       "    <tr>\n",
       "      <td>2</td>\n",
       "      <td>Michigan</td>\n",
       "      <td>3.797574</td>\n",
       "    </tr>\n",
       "    <tr>\n",
       "      <td>3</td>\n",
       "      <td>Florida</td>\n",
       "      <td>3.587028</td>\n",
       "    </tr>\n",
       "    <tr>\n",
       "      <td>4</td>\n",
       "      <td>Connecticut</td>\n",
       "      <td>3.537197</td>\n",
       "    </tr>\n",
       "    <tr>\n",
       "      <td>5</td>\n",
       "      <td>Kentucky</td>\n",
       "      <td>2.821578</td>\n",
       "    </tr>\n",
       "    <tr>\n",
       "      <td>6</td>\n",
       "      <td>Kansas</td>\n",
       "      <td>2.715654</td>\n",
       "    </tr>\n",
       "    <tr>\n",
       "      <td>7</td>\n",
       "      <td>Wichita St</td>\n",
       "      <td>2.607965</td>\n",
       "    </tr>\n",
       "    <tr>\n",
       "      <td>8</td>\n",
       "      <td>Auburn</td>\n",
       "      <td>2.495821</td>\n",
       "    </tr>\n",
       "    <tr>\n",
       "      <td>9</td>\n",
       "      <td>Villanova</td>\n",
       "      <td>2.367818</td>\n",
       "    </tr>\n",
       "    <tr>\n",
       "      <td>10</td>\n",
       "      <td>Louisville</td>\n",
       "      <td>2.339100</td>\n",
       "    </tr>\n",
       "  </tbody>\n",
       "</table>\n",
       "</div>"
      ],
      "text/plain": [
       "              team    rating\n",
       "0   North Carolina  4.219692\n",
       "1   South Carolina  4.094053\n",
       "2         Michigan  3.797574\n",
       "3          Florida  3.587028\n",
       "4      Connecticut  3.537197\n",
       "5         Kentucky  2.821578\n",
       "6           Kansas  2.715654\n",
       "7       Wichita St  2.607965\n",
       "8           Auburn  2.495821\n",
       "9        Villanova  2.367818\n",
       "10      Louisville  2.339100"
      ]
     },
     "execution_count": 17,
     "metadata": {},
     "output_type": "execute_result"
    }
   ],
   "source": [
    "rankings = srs.sort_values('rating', ascending=False).reset_index()[['team', 'rating']]\n",
    "rankings.loc[:10]"
   ]
  },
  {
   "cell_type": "code",
   "execution_count": 18,
   "metadata": {
    "id": "XlJukj6U4K30"
   },
   "outputs": [],
   "source": [
    "team_list = list(rankings['team']) \n",
    "rating_list = list(rankings['rating'])"
   ]
  },
  {
   "cell_type": "code",
   "execution_count": 19,
   "metadata": {
    "id": "zxJ8dHb44K6_"
   },
   "outputs": [],
   "source": [
    "team1_rating = []\n",
    "team1_namelist = list(df['team1_teamname'])\n",
    "\n",
    "for i in team1_namelist:\n",
    "  unique_index = pd.Index(team_list)\n",
    "  team_index = unique_index.get_loc(i)\n",
    "  team_rating = rating_list[team_index]\n",
    "  team1_rating.append(team_rating)"
   ]
  },
  {
   "cell_type": "code",
   "execution_count": 20,
   "metadata": {
    "id": "8q6qbHfG4K-e"
   },
   "outputs": [],
   "source": [
    "team2_rating = []\n",
    "team2_namelist = list(df['team2_teamname'])\n",
    "\n",
    "for i in team2_namelist:\n",
    "  unique_index = pd.Index(team_list)\n",
    "  team_index = unique_index.get_loc(i)\n",
    "  team_rating = rating_list[team_index]\n",
    "  team2_rating.append(team_rating)"
   ]
  },
  {
   "cell_type": "code",
   "execution_count": 21,
   "metadata": {
    "id": "h8JZSinC4K_2"
   },
   "outputs": [],
   "source": [
    "rating_diff = []\n",
    "for i in range(len(team1_rating)):\n",
    "  game_rating_diff = team1_rating[i] - team2_rating[i]\n",
    "  rating_diff.append(game_rating_diff)\n",
    "  "
   ]
  },
  {
   "cell_type": "code",
   "execution_count": 22,
   "metadata": {
    "id": "gCXRimuZ4S-n"
   },
   "outputs": [],
   "source": [
    "rating_compare = []\n",
    "for i in rating_diff:\n",
    "  if i > 2:\n",
    "    rating_compare.append(1)\n",
    "  elif i < -2:\n",
    "    rating_compare.append(-1)\n",
    "  else:\n",
    "    rating_compare.append(0)"
   ]
  },
  {
   "cell_type": "code",
   "execution_count": 23,
   "metadata": {
    "id": "MAtLQbFt4TBM"
   },
   "outputs": [],
   "source": [
    "df['rating_diff'] = rating_compare"
   ]
  },
  {
   "cell_type": "code",
   "execution_count": 24,
   "metadata": {
    "colab": {
     "base_uri": "https://localhost:8080/"
    },
    "id": "2P4gzm3D4TDp",
    "outputId": "bbc35b09-3a4d-4a4f-c010-69db3a302c74"
   },
   "outputs": [
    {
     "data": {
      "text/plain": [
       " 1    690\n",
       " 0    306\n",
       "-1    171\n",
       "Name: rating_diff, dtype: int64"
      ]
     },
     "execution_count": 24,
     "metadata": {},
     "output_type": "execute_result"
    }
   ],
   "source": [
    "df['rating_diff'].value_counts()"
   ]
  },
  {
   "cell_type": "code",
   "execution_count": null,
   "metadata": {
    "id": "6BpYi-Vs2R-Z"
   },
   "outputs": [],
   "source": []
  },
  {
   "cell_type": "code",
   "execution_count": 25,
   "metadata": {
    "id": "HumCTJ6Xwd3Q"
   },
   "outputs": [],
   "source": [
    "def distance(lat1, lon1, lat2, lon2):\n",
    "\n",
    "    # approximate radius of earth in km\n",
    "    R = 6373.0\n",
    "\n",
    "    lat1 = radians(lat1)\n",
    "    lon1 = radians(lon1)\n",
    "    lat2 = radians(lat2)\n",
    "    lon2 = radians(lon2)\n",
    "\n",
    "    dlon = lon2 - lon1\n",
    "    dlat = lat2 - lat1\n",
    "\n",
    "    a = sin(dlat / 2)**2 + cos(lat1) * cos(lat2) * sin(dlon / 2)**2\n",
    "    c = 2 * atan2(sqrt(a), sqrt(1 - a))\n",
    "\n",
    "    distance = R * c\n",
    "    \n",
    "    return distance"
   ]
  },
  {
   "cell_type": "code",
   "execution_count": 26,
   "metadata": {
    "id": "b2hBZBnmwf3N"
   },
   "outputs": [],
   "source": [
    "df['dist1'] = df.apply(lambda row: distance(row['host_lat'], row['host_long'], row['team1_lat'], row['team1_long']), axis=1)\n",
    "df['dist2'] = df.apply(lambda row: distance(row['host_lat'], row['host_long'], row['team2_lat'], row['team2_long']), axis=1)"
   ]
  },
  {
   "cell_type": "code",
   "execution_count": 27,
   "metadata": {
    "id": "93ZL1RaDwhv5"
   },
   "outputs": [],
   "source": [
    "df['diff_dist'] = df['dist1'] - df['dist2']\n"
   ]
  },
  {
   "cell_type": "code",
   "execution_count": 28,
   "metadata": {
    "id": "Lk5RNQtSwjUH"
   },
   "outputs": [],
   "source": [
    "df['exp_win1'] = (df['team1_adjoe']**11.5)/ ((df['team1_adjde']**11.5)+(df['team1_adjoe']**11.5))\n",
    "df['exp_win2'] = (df['team2_adjoe']**11.5)/ ((df['team2_adjde']**11.5)+(df['team2_adjoe']**11.5))"
   ]
  },
  {
   "cell_type": "code",
   "execution_count": null,
   "metadata": {
    "id": "jx66dj-4wk1S"
   },
   "outputs": [],
   "source": []
  },
  {
   "cell_type": "markdown",
   "metadata": {
    "id": "a7k-Vcglwn_e"
   },
   "source": [
    "Log 5 is a formula invented by Bill James[1] to estimate the probability that team A will win a game, based on the true winning percentage of Team A and Team B."
   ]
  },
  {
   "cell_type": "code",
   "execution_count": 29,
   "metadata": {
    "id": "n1vpmoUuwofZ"
   },
   "outputs": [],
   "source": [
    "df['team1_log5'] = (df['exp_win1'] - (df['exp_win1']*df['exp_win2']))/ (df['exp_win1']+df['exp_win2']-(2*df['exp_win1']*df['exp_win2']))"
   ]
  },
  {
   "cell_type": "code",
   "execution_count": 30,
   "metadata": {
    "id": "SDjxL97_wvJk"
   },
   "outputs": [],
   "source": [
    "seed_diff = list(df['team1_seed'] - df['team2_seed'])\n",
    "\n",
    "seed_compare = []\n",
    "for i in seed_diff:\n",
    "  if i >= 4:\n",
    "    seed_compare.append(1)\n",
    "  elif i <= -4:\n",
    "    seed_compare.append(-1)\n",
    "  else:\n",
    "    seed_compare.append(0)"
   ]
  },
  {
   "cell_type": "code",
   "execution_count": 31,
   "metadata": {
    "id": "Be1lZDhewyTt"
   },
   "outputs": [],
   "source": [
    "df['seed_diff'] = seed_compare"
   ]
  },
  {
   "cell_type": "code",
   "execution_count": 32,
   "metadata": {
    "colab": {
     "base_uri": "https://localhost:8080/"
    },
    "id": "wuJKYvNuwz0i",
    "outputId": "99312a9c-4906-47eb-e7c3-6952e5843c88"
   },
   "outputs": [
    {
     "data": {
      "text/plain": [
       "-1    583\n",
       " 0    416\n",
       " 1    168\n",
       "Name: seed_diff, dtype: int64"
      ]
     },
     "execution_count": 32,
     "metadata": {},
     "output_type": "execute_result"
    }
   ],
   "source": [
    "df['seed_diff'].value_counts()"
   ]
  },
  {
   "cell_type": "code",
   "execution_count": 33,
   "metadata": {
    "id": "_H8L05Q7w047"
   },
   "outputs": [],
   "source": [
    "df['team1_win'] = (df['team1_score']>df['team2_score']).astype(int)"
   ]
  },
  {
   "cell_type": "code",
   "execution_count": 34,
   "metadata": {
    "id": "X4U1P-6Aw2dK"
   },
   "outputs": [],
   "source": [
    "def tran(x):\n",
    "  if x != 0:\n",
    "    return 1\n",
    "  else: \n",
    "    return 0\n"
   ]
  },
  {
   "cell_type": "code",
   "execution_count": 35,
   "metadata": {
    "id": "T7-EQM6kw3yj"
   },
   "outputs": [],
   "source": [
    "df['team1_ff'] = df['team1_pt_overall_ff'].apply(tran)\n",
    "df['team2_ff'] = df['team2_pt_overall_ff'].apply(tran)\n",
    "df['ff_diff'] = df['team1_ff'] - df['team2_ff']"
   ]
  },
  {
   "cell_type": "code",
   "execution_count": 36,
   "metadata": {
    "colab": {
     "base_uri": "https://localhost:8080/"
    },
    "id": "UVYwijLzw78w",
    "outputId": "f032323b-cd24-4da0-f803-eb1295ebea75"
   },
   "outputs": [
    {
     "data": {
      "text/plain": [
       " 0    609\n",
       " 1    395\n",
       "-1    163\n",
       "Name: ff_diff, dtype: int64"
      ]
     },
     "execution_count": 36,
     "metadata": {},
     "output_type": "execute_result"
    }
   ],
   "source": [
    "df['ff_diff'].value_counts()"
   ]
  },
  {
   "cell_type": "code",
   "execution_count": null,
   "metadata": {
    "id": "pYLLuSiqw9Ag"
   },
   "outputs": [],
   "source": []
  },
  {
   "cell_type": "code",
   "execution_count": 37,
   "metadata": {
    "id": "wUPiKyyCxAzi"
   },
   "outputs": [],
   "source": [
    "np.random.seed(0)\n",
    "\n",
    "def shuffle(df):     \n",
    "    df = df.reindex(np.random.permutation(df.index)).copy()\n",
    "    return df.reset_index(drop=True)\n",
    "random_indices = random.sample(range(len(df)), int(len(df)/2))"
   ]
  },
  {
   "cell_type": "code",
   "execution_count": 38,
   "metadata": {
    "id": "d-ep6yWqxCKw"
   },
   "outputs": [],
   "source": [
    "df_1 = df[~df.index.isin(random_indices)][['game_id','season','team1_win','exp_win1','exp_win2','team2_score', 'team1_score','diff_dist','team1_log5','team1_id','team2_id','seed_diff', 'ff_diff','rating_diff']].reset_index(drop=True)\n",
    "df_2 = df[df.index.isin(random_indices)][['game_id','season','team1_win','exp_win1','exp_win2','team2_score','team1_score','diff_dist','team1_log5','team1_id','team2_id','seed_diff', 'ff_diff','rating_diff']].reset_index(drop=True)"
   ]
  },
  {
   "cell_type": "code",
   "execution_count": 39,
   "metadata": {
    "id": "aSR5S5QlxD5O"
   },
   "outputs": [],
   "source": [
    "df_2['team1_win'] = df['team1_win'].apply(lambda x: 1 if x==0 else 0)\n",
    "df_2['diff_dist'] = df['diff_dist']*-1\n",
    "df_2['ff_diff'] = df['ff_diff']*-1\n",
    "df_2['seed_diff'] = df['seed_diff']*-1\n",
    "df_2['rating_diff'] = df['rating_diff']*-1\n",
    "df_2['team1_log5'] = (df['exp_win2'] - (df['exp_win1']*df['exp_win2']))/ (df['exp_win1']+df['exp_win2']-(2*df['exp_win1']*df['exp_win2']))\n",
    "df_2.columns = ['game_id', 'season', 'team1_win', 'exp_win2', 'exp_win1', 'team1_score', 'team2_score', 'diff_dist', 'team1_log5',\n",
    " 'team2_id', 'team1_id','seed_diff', 'ff_diff','rating_diff']\n",
    "\n"
   ]
  },
  {
   "cell_type": "code",
   "execution_count": null,
   "metadata": {
    "colab": {
     "base_uri": "https://localhost:8080/"
    },
    "id": "WwvZm0uUxFWo",
    "outputId": "7e026861-04b6-4067-c9bd-8d393cd14600"
   },
   "outputs": [],
   "source": []
  },
  {
   "cell_type": "code",
   "execution_count": 40,
   "metadata": {
    "colab": {
     "base_uri": "https://localhost:8080/"
    },
    "id": "YtLczgy_xGhu",
    "outputId": "ad3c986c-9fc2-4fa3-97f0-5d38221dca52"
   },
   "outputs": [
    {
     "data": {
      "text/plain": [
       "1    584\n",
       "Name: team1_win, dtype: int64"
      ]
     },
     "execution_count": 40,
     "metadata": {},
     "output_type": "execute_result"
    }
   ],
   "source": [
    "df_1['team1_win'].value_counts()"
   ]
  },
  {
   "cell_type": "code",
   "execution_count": 41,
   "metadata": {
    "id": "-v-U08UexJuZ"
   },
   "outputs": [
    {
     "name": "stderr",
     "output_type": "stream",
     "text": [
      "/Users/wangyue/opt/anaconda3/lib/python3.7/site-packages/ipykernel_launcher.py:1: FutureWarning: Sorting because non-concatenation axis is not aligned. A future version\n",
      "of pandas will change to not sort by default.\n",
      "\n",
      "To accept the future behavior, pass 'sort=False'.\n",
      "\n",
      "To retain the current behavior and silence the warning, pass 'sort=True'.\n",
      "\n",
      "  \"\"\"Entry point for launching an IPython kernel.\n"
     ]
    }
   ],
   "source": [
    "mm_train = pd.concat([df_2, df_1])"
   ]
  },
  {
   "cell_type": "code",
   "execution_count": 42,
   "metadata": {
    "id": "CalOUP1Qx55V"
   },
   "outputs": [],
   "source": [
    "mm_data_2019 = mm_train[mm_train['season'] == 2019].reset_index(drop=True)\n",
    "mm_data_else = mm_train[mm_train['season'] != 2019].reset_index(drop=True)"
   ]
  },
  {
   "cell_type": "code",
   "execution_count": null,
   "metadata": {
    "id": "ERWPOQKhqFSK"
   },
   "outputs": [],
   "source": []
  },
  {
   "cell_type": "code",
   "execution_count": 43,
   "metadata": {
    "colab": {
     "base_uri": "https://localhost:8080/"
    },
    "id": "LY-ZL0KIx8KU",
    "outputId": "28ab3d0f-a778-457f-a32e-66f6ec8b2ec2"
   },
   "outputs": [
    {
     "data": {
      "text/plain": [
       "team1_win\n",
       "0    0.366799\n",
       "1    0.618721\n",
       "Name: team1_log5, dtype: float64"
      ]
     },
     "execution_count": 43,
     "metadata": {},
     "output_type": "execute_result"
    }
   ],
   "source": [
    "mm_data_else.groupby('team1_win')['team1_log5'].mean()"
   ]
  },
  {
   "cell_type": "code",
   "execution_count": 44,
   "metadata": {
    "colab": {
     "base_uri": "https://localhost:8080/"
    },
    "id": "4Rr63GZux-mf",
    "outputId": "d496614a-ac6d-45ad-dc1c-469bfcd24512"
   },
   "outputs": [
    {
     "data": {
      "text/plain": [
       "team1_win\n",
       "0    0.396364\n",
       "1   -0.365455\n",
       "Name: seed_diff, dtype: float64"
      ]
     },
     "execution_count": 44,
     "metadata": {},
     "output_type": "execute_result"
    }
   ],
   "source": [
    "mm_data_else.groupby('team1_win')['seed_diff'].mean()"
   ]
  },
  {
   "cell_type": "code",
   "execution_count": 45,
   "metadata": {
    "colab": {
     "base_uri": "https://localhost:8080/"
    },
    "id": "jhw23vP0yAro",
    "outputId": "15b0aa4a-5b3f-4bdd-d78f-c73d8b8fd819"
   },
   "outputs": [
    {
     "data": {
      "text/plain": [
       "team1_win\n",
       "0    231.233088\n",
       "1   -204.514611\n",
       "Name: diff_dist, dtype: float64"
      ]
     },
     "execution_count": 45,
     "metadata": {},
     "output_type": "execute_result"
    }
   ],
   "source": [
    "mm_data_else.groupby('team1_win')['diff_dist'].mean()"
   ]
  },
  {
   "cell_type": "code",
   "execution_count": 46,
   "metadata": {
    "colab": {
     "base_uri": "https://localhost:8080/"
    },
    "id": "NJEoq9HByBkT",
    "outputId": "717b2e92-7372-4f2c-fc3f-90354be3351d"
   },
   "outputs": [
    {
     "data": {
      "text/plain": [
       "team1_win\n",
       "0   -0.176364\n",
       "1    0.207273\n",
       "Name: ff_diff, dtype: float64"
      ]
     },
     "execution_count": 46,
     "metadata": {},
     "output_type": "execute_result"
    }
   ],
   "source": [
    "mm_data_else.groupby('team1_win')['ff_diff'].mean()"
   ]
  },
  {
   "cell_type": "code",
   "execution_count": 47,
   "metadata": {
    "id": "WY4BUo5FyE6S"
   },
   "outputs": [],
   "source": [
    "X = mm_data_else[['team1_log5', 'diff_dist', 'seed_diff', 'ff_diff', 'rating_diff']]\n",
    "y = mm_data_else['team1_win']"
   ]
  },
  {
   "cell_type": "code",
   "execution_count": 48,
   "metadata": {},
   "outputs": [
    {
     "data": {
      "text/html": [
       "<div>\n",
       "<style scoped>\n",
       "    .dataframe tbody tr th:only-of-type {\n",
       "        vertical-align: middle;\n",
       "    }\n",
       "\n",
       "    .dataframe tbody tr th {\n",
       "        vertical-align: top;\n",
       "    }\n",
       "\n",
       "    .dataframe thead th {\n",
       "        text-align: right;\n",
       "    }\n",
       "</style>\n",
       "<table border=\"1\" class=\"dataframe\">\n",
       "  <thead>\n",
       "    <tr style=\"text-align: right;\">\n",
       "      <th></th>\n",
       "      <th>team1_log5</th>\n",
       "      <th>diff_dist</th>\n",
       "      <th>seed_diff</th>\n",
       "      <th>ff_diff</th>\n",
       "      <th>rating_diff</th>\n",
       "    </tr>\n",
       "  </thead>\n",
       "  <tbody>\n",
       "    <tr>\n",
       "      <td>0</td>\n",
       "      <td>0.652721</td>\n",
       "      <td>-524.926371</td>\n",
       "      <td>-1</td>\n",
       "      <td>0</td>\n",
       "      <td>0</td>\n",
       "    </tr>\n",
       "    <tr>\n",
       "      <td>1</td>\n",
       "      <td>0.739587</td>\n",
       "      <td>-733.948117</td>\n",
       "      <td>-1</td>\n",
       "      <td>1</td>\n",
       "      <td>1</td>\n",
       "    </tr>\n",
       "    <tr>\n",
       "      <td>2</td>\n",
       "      <td>0.560312</td>\n",
       "      <td>-1053.644399</td>\n",
       "      <td>0</td>\n",
       "      <td>0</td>\n",
       "      <td>0</td>\n",
       "    </tr>\n",
       "    <tr>\n",
       "      <td>3</td>\n",
       "      <td>0.137544</td>\n",
       "      <td>785.401424</td>\n",
       "      <td>1</td>\n",
       "      <td>-1</td>\n",
       "      <td>0</td>\n",
       "    </tr>\n",
       "    <tr>\n",
       "      <td>4</td>\n",
       "      <td>0.143570</td>\n",
       "      <td>-386.259323</td>\n",
       "      <td>1</td>\n",
       "      <td>-1</td>\n",
       "      <td>-1</td>\n",
       "    </tr>\n",
       "    <tr>\n",
       "      <td>...</td>\n",
       "      <td>...</td>\n",
       "      <td>...</td>\n",
       "      <td>...</td>\n",
       "      <td>...</td>\n",
       "      <td>...</td>\n",
       "    </tr>\n",
       "    <tr>\n",
       "      <td>1095</td>\n",
       "      <td>0.437585</td>\n",
       "      <td>769.725343</td>\n",
       "      <td>1</td>\n",
       "      <td>0</td>\n",
       "      <td>-1</td>\n",
       "    </tr>\n",
       "    <tr>\n",
       "      <td>1096</td>\n",
       "      <td>0.662444</td>\n",
       "      <td>-2412.607153</td>\n",
       "      <td>0</td>\n",
       "      <td>1</td>\n",
       "      <td>0</td>\n",
       "    </tr>\n",
       "    <tr>\n",
       "      <td>1097</td>\n",
       "      <td>0.720863</td>\n",
       "      <td>-284.535852</td>\n",
       "      <td>0</td>\n",
       "      <td>-1</td>\n",
       "      <td>1</td>\n",
       "    </tr>\n",
       "    <tr>\n",
       "      <td>1098</td>\n",
       "      <td>0.648177</td>\n",
       "      <td>-75.859795</td>\n",
       "      <td>-1</td>\n",
       "      <td>1</td>\n",
       "      <td>1</td>\n",
       "    </tr>\n",
       "    <tr>\n",
       "      <td>1099</td>\n",
       "      <td>0.677630</td>\n",
       "      <td>465.785620</td>\n",
       "      <td>0</td>\n",
       "      <td>0</td>\n",
       "      <td>0</td>\n",
       "    </tr>\n",
       "  </tbody>\n",
       "</table>\n",
       "<p>1100 rows × 5 columns</p>\n",
       "</div>"
      ],
      "text/plain": [
       "      team1_log5    diff_dist  seed_diff  ff_diff  rating_diff\n",
       "0       0.652721  -524.926371         -1        0            0\n",
       "1       0.739587  -733.948117         -1        1            1\n",
       "2       0.560312 -1053.644399          0        0            0\n",
       "3       0.137544   785.401424          1       -1            0\n",
       "4       0.143570  -386.259323          1       -1           -1\n",
       "...          ...          ...        ...      ...          ...\n",
       "1095    0.437585   769.725343          1        0           -1\n",
       "1096    0.662444 -2412.607153          0        1            0\n",
       "1097    0.720863  -284.535852          0       -1            1\n",
       "1098    0.648177   -75.859795         -1        1            1\n",
       "1099    0.677630   465.785620          0        0            0\n",
       "\n",
       "[1100 rows x 5 columns]"
      ]
     },
     "execution_count": 48,
     "metadata": {},
     "output_type": "execute_result"
    }
   ],
   "source": [
    "X"
   ]
  },
  {
   "cell_type": "code",
   "execution_count": null,
   "metadata": {},
   "outputs": [],
   "source": []
  },
  {
   "cell_type": "code",
   "execution_count": 49,
   "metadata": {},
   "outputs": [],
   "source": [
    "import numpy as np\n",
    "\n",
    "labels = np.array(y)\n",
    "features= X\n",
    "\n",
    "feature_list = list(X.columns)\n",
    "# Convert to numpy array\n",
    "features = np.array(features)"
   ]
  },
  {
   "cell_type": "code",
   "execution_count": 50,
   "metadata": {},
   "outputs": [],
   "source": [
    "mm_data_2019 = mm_train[mm_train['season'] == 2019].reset_index(drop=True)\n",
    "mm_data_else = mm_train[mm_train['season'] != 2019].reset_index(drop=True)"
   ]
  },
  {
   "cell_type": "code",
   "execution_count": 63,
   "metadata": {},
   "outputs": [],
   "source": [
    "y_test = mm_data_2019['team1_win']\n",
    "x_test = mm_data_2019[['ff_diff','seed_diff','diff_dist','team1_log5','rating_diff']]\n",
    "y_train = mm_data_else['team1_win']\n",
    "x_train = mm_data_else[['ff_diff','seed_diff','diff_dist','team1_log5','rating_diff']]"
   ]
  },
  {
   "cell_type": "code",
   "execution_count": 51,
   "metadata": {},
   "outputs": [],
   "source": [
    "from sklearn.ensemble import RandomForestClassifier\n",
    "from sklearn.calibration import CalibratedClassifierCV\n",
    "from sklearn.metrics import log_loss"
   ]
  },
  {
   "cell_type": "code",
   "execution_count": 52,
   "metadata": {},
   "outputs": [],
   "source": [
    "clf = RandomForestClassifier(n_estimators=25)"
   ]
  },
  {
   "cell_type": "code",
   "execution_count": 53,
   "metadata": {},
   "outputs": [
    {
     "data": {
      "text/plain": [
       "RandomForestClassifier(bootstrap=True, class_weight=None, criterion='gini',\n",
       "                       max_depth=None, max_features='auto', max_leaf_nodes=None,\n",
       "                       min_impurity_decrease=0.0, min_impurity_split=None,\n",
       "                       min_samples_leaf=1, min_samples_split=2,\n",
       "                       min_weight_fraction_leaf=0.0, n_estimators=25,\n",
       "                       n_jobs=None, oob_score=False, random_state=None,\n",
       "                       verbose=0, warm_start=False)"
      ]
     },
     "execution_count": 53,
     "metadata": {},
     "output_type": "execute_result"
    }
   ],
   "source": [
    "clf.fit(X_train_valid, y_train_valid)"
   ]
  },
  {
   "cell_type": "code",
   "execution_count": null,
   "metadata": {},
   "outputs": [],
   "source": []
  },
  {
   "cell_type": "code",
   "execution_count": 67,
   "metadata": {},
   "outputs": [
    {
     "name": "stdout",
     "output_type": "stream",
     "text": [
      "sig_score = 0.6154956181677037\n"
     ]
    }
   ],
   "source": [
    "clf = RandomForestClassifier(n_estimators=25)\n",
    "clf.fit(train_features, train_labels)\n",
    "clf_probs = clf.predict_proba(test_features)\n",
    "sig_clf = CalibratedClassifierCV(clf, method=\"sigmoid\", cv=\"prefit\")\n",
    "sig_clf.fit(x_test, y_test)\n",
    "sig_clf_probs = sig_clf.predict_proba(x_test)\n",
    "sig_score = log_loss(y_test, sig_clf_probs)\n",
    "print('sig_score = %r' % (sig_score,)) "
   ]
  },
  {
   "cell_type": "code",
   "execution_count": null,
   "metadata": {
    "collapsed": true
   },
   "outputs": [],
   "source": []
  },
  {
   "cell_type": "code",
   "execution_count": null,
   "metadata": {
    "id": "Ii_DD-2HagqT"
   },
   "outputs": [],
   "source": []
  },
  {
   "cell_type": "code",
   "execution_count": null,
   "metadata": {
    "id": "ej6epj92agsQ"
   },
   "outputs": [],
   "source": []
  },
  {
   "cell_type": "code",
   "execution_count": null,
   "metadata": {
    "id": "VoTxvCnUagux"
   },
   "outputs": [],
   "source": []
  },
  {
   "cell_type": "code",
   "execution_count": null,
   "metadata": {
    "id": "ZmT5DXHePsJW"
   },
   "outputs": [],
   "source": []
  }
 ],
 "metadata": {
  "colab": {
   "collapsed_sections": [],
   "name": "Random Forest.ipynb",
   "provenance": []
  },
  "kernelspec": {
   "display_name": "Python 3",
   "language": "python",
   "name": "python3"
  },
  "language_info": {
   "codemirror_mode": {
    "name": "ipython",
    "version": 3
   },
   "file_extension": ".py",
   "mimetype": "text/x-python",
   "name": "python",
   "nbconvert_exporter": "python",
   "pygments_lexer": "ipython3",
   "version": "3.8.8"
  }
 },
 "nbformat": 4,
 "nbformat_minor": 1
}
